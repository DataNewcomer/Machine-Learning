{
 "cells": [
  {
   "cell_type": "markdown",
   "metadata": {},
   "source": [
    "## **Latihan Hyperparameter Tuning**"
   ]
  },
  {
   "cell_type": "markdown",
   "metadata": {},
   "source": [
    "**Gunakan dataset 'insurance'**\n",
    "\n",
    "Carilah model dan hyperparameter terbaik untuk memprediksi biaya asuransi tiap individu berdasarkan karakteristiknya.\n",
    "1. Lakukan EDA singkat untuk mengeksplorasi dataset terlebih dahulu.\n",
    "2. Lakukan preprocessing pada features jika dibutuhkan.\n",
    "3. Lakukan modeling dengan menggunakan linear regression, knn regressor, dan decision tree regressor.<br>\n",
    "    Kandidat algoritma:\n",
    "    - linreg = LinearRegression(fit_intercept=True)\n",
    "    - knn = KNeighborsRegressor(n_neighbors=5)\n",
    "    - tree = DecisionTreeRegressor(criterion='mae', min_samples_leaf=1, max_depth=5, random_state=0)\n",
    "4. Pilih 1 model terbaik berdasarkan hasil cross validasi 3 model di atas.\n",
    "5. Lakukan prediksi pada test set dari model terpilih (sebelum hyperparameter tuning).\n",
    "6. Lakukan hyperparameter tuning pada model terpilih tsb.\n",
    "7. Lakukan prediksi pada test set dari model dengan hyperparameter tuning.\n",
    "8. Bandingkan hasil performa model sebelum dan sesudah tuning.\n",
    "\n",
    "*Tips: Gunakan Pipeline*\n",
    "\n",
    "**Features Description**\n",
    "\n",
    "- age: age of primary beneficiary\n",
    "\n",
    "- sex: insurance contractor gender, female, male\n",
    "\n",
    "- bmi: Body mass index, providing an understanding of body, weights that are relatively high or low relative to height,\n",
    "objective index of body weight (kg / m ^ 2) using the ratio of height to weight, ideally 18.5 to 24.9\n",
    "\n",
    "- children: Number of children covered by health insurance / Number of dependents\n",
    "\n",
    "- smoker: Smoking\n",
    "\n",
    "- region: the beneficiary's residential area in the US, northeast, southeast, southwest, northwest.\n",
    "\n",
    "- charges: Individual medical costs billed by health insurance"
   ]
  },
  {
   "cell_type": "markdown",
   "metadata": {},
   "source": [
    "## **Import libraries**"
   ]
  },
  {
   "cell_type": "code",
   "execution_count": 1,
   "metadata": {},
   "outputs": [],
   "source": [
    "import numpy as np \n",
    "import pandas as pd \n",
    "import matplotlib.pyplot as plt \n",
    "import seaborn as sns\n",
    "\n",
    "from sklearn.metrics import accuracy_score, mean_squared_error, mean_absolute_error\n",
    "from sklearn.model_selection import train_test_split\n",
    "\n",
    "import category_encoders as ce\n",
    "from sklearn.preprocessing import OneHotEncoder\n",
    "from sklearn.compose import ColumnTransformer\n",
    "from sklearn.pipeline import Pipeline\n",
    "from sklearn.impute import SimpleImputer\n",
    "from sklearn.experimental import enable_iterative_imputer\n",
    "from sklearn.impute import IterativeImputer\n",
    "\n",
    "from sklearn.linear_model import LinearRegression, Lasso, Ridge\n",
    "from sklearn.neighbors import KNeighborsRegressor\n",
    "from sklearn.tree import DecisionTreeRegressor\n",
    "from sklearn.model_selection import cross_val_score, StratifiedKFold\n",
    "from sklearn.preprocessing import StandardScaler, PolynomialFeatures, RobustScaler\n",
    "\n",
    "from sklearn.model_selection import GridSearchCV, RandomizedSearchCV\n",
    "\n",
    "import warnings\n",
    "warnings.filterwarnings('ignore')"
   ]
  },
  {
   "cell_type": "markdown",
   "metadata": {},
   "source": [
    "## **Load dataset**"
   ]
  },
  {
   "cell_type": "code",
   "execution_count": 3,
   "metadata": {},
   "outputs": [
    {
     "data": {
      "text/html": [
       "<div>\n",
       "<style scoped>\n",
       "    .dataframe tbody tr th:only-of-type {\n",
       "        vertical-align: middle;\n",
       "    }\n",
       "\n",
       "    .dataframe tbody tr th {\n",
       "        vertical-align: top;\n",
       "    }\n",
       "\n",
       "    .dataframe thead th {\n",
       "        text-align: right;\n",
       "    }\n",
       "</style>\n",
       "<table border=\"1\" class=\"dataframe\">\n",
       "  <thead>\n",
       "    <tr style=\"text-align: right;\">\n",
       "      <th></th>\n",
       "      <th>age</th>\n",
       "      <th>sex</th>\n",
       "      <th>bmi</th>\n",
       "      <th>children</th>\n",
       "      <th>smoker</th>\n",
       "      <th>region</th>\n",
       "      <th>charges</th>\n",
       "    </tr>\n",
       "  </thead>\n",
       "  <tbody>\n",
       "    <tr>\n",
       "      <th>0</th>\n",
       "      <td>19</td>\n",
       "      <td>female</td>\n",
       "      <td>27.900</td>\n",
       "      <td>0</td>\n",
       "      <td>yes</td>\n",
       "      <td>southwest</td>\n",
       "      <td>16884.92400</td>\n",
       "    </tr>\n",
       "    <tr>\n",
       "      <th>1</th>\n",
       "      <td>18</td>\n",
       "      <td>male</td>\n",
       "      <td>33.770</td>\n",
       "      <td>1</td>\n",
       "      <td>no</td>\n",
       "      <td>southeast</td>\n",
       "      <td>1725.55230</td>\n",
       "    </tr>\n",
       "    <tr>\n",
       "      <th>2</th>\n",
       "      <td>28</td>\n",
       "      <td>male</td>\n",
       "      <td>33.000</td>\n",
       "      <td>3</td>\n",
       "      <td>no</td>\n",
       "      <td>southeast</td>\n",
       "      <td>4449.46200</td>\n",
       "    </tr>\n",
       "    <tr>\n",
       "      <th>3</th>\n",
       "      <td>33</td>\n",
       "      <td>male</td>\n",
       "      <td>22.705</td>\n",
       "      <td>0</td>\n",
       "      <td>no</td>\n",
       "      <td>northwest</td>\n",
       "      <td>21984.47061</td>\n",
       "    </tr>\n",
       "    <tr>\n",
       "      <th>4</th>\n",
       "      <td>32</td>\n",
       "      <td>male</td>\n",
       "      <td>28.880</td>\n",
       "      <td>0</td>\n",
       "      <td>no</td>\n",
       "      <td>northwest</td>\n",
       "      <td>3866.85520</td>\n",
       "    </tr>\n",
       "    <tr>\n",
       "      <th>...</th>\n",
       "      <td>...</td>\n",
       "      <td>...</td>\n",
       "      <td>...</td>\n",
       "      <td>...</td>\n",
       "      <td>...</td>\n",
       "      <td>...</td>\n",
       "      <td>...</td>\n",
       "    </tr>\n",
       "    <tr>\n",
       "      <th>1333</th>\n",
       "      <td>50</td>\n",
       "      <td>male</td>\n",
       "      <td>30.970</td>\n",
       "      <td>3</td>\n",
       "      <td>no</td>\n",
       "      <td>northwest</td>\n",
       "      <td>10600.54830</td>\n",
       "    </tr>\n",
       "    <tr>\n",
       "      <th>1334</th>\n",
       "      <td>18</td>\n",
       "      <td>female</td>\n",
       "      <td>31.920</td>\n",
       "      <td>0</td>\n",
       "      <td>no</td>\n",
       "      <td>northeast</td>\n",
       "      <td>2205.98080</td>\n",
       "    </tr>\n",
       "    <tr>\n",
       "      <th>1335</th>\n",
       "      <td>18</td>\n",
       "      <td>female</td>\n",
       "      <td>36.850</td>\n",
       "      <td>0</td>\n",
       "      <td>no</td>\n",
       "      <td>southeast</td>\n",
       "      <td>1629.83350</td>\n",
       "    </tr>\n",
       "    <tr>\n",
       "      <th>1336</th>\n",
       "      <td>21</td>\n",
       "      <td>female</td>\n",
       "      <td>25.800</td>\n",
       "      <td>0</td>\n",
       "      <td>no</td>\n",
       "      <td>southwest</td>\n",
       "      <td>2007.94500</td>\n",
       "    </tr>\n",
       "    <tr>\n",
       "      <th>1337</th>\n",
       "      <td>61</td>\n",
       "      <td>female</td>\n",
       "      <td>29.070</td>\n",
       "      <td>0</td>\n",
       "      <td>yes</td>\n",
       "      <td>northwest</td>\n",
       "      <td>29141.36030</td>\n",
       "    </tr>\n",
       "  </tbody>\n",
       "</table>\n",
       "<p>1338 rows × 7 columns</p>\n",
       "</div>"
      ],
      "text/plain": [
       "      age     sex     bmi  children smoker     region      charges\n",
       "0      19  female  27.900         0    yes  southwest  16884.92400\n",
       "1      18    male  33.770         1     no  southeast   1725.55230\n",
       "2      28    male  33.000         3     no  southeast   4449.46200\n",
       "3      33    male  22.705         0     no  northwest  21984.47061\n",
       "4      32    male  28.880         0     no  northwest   3866.85520\n",
       "...   ...     ...     ...       ...    ...        ...          ...\n",
       "1333   50    male  30.970         3     no  northwest  10600.54830\n",
       "1334   18  female  31.920         0     no  northeast   2205.98080\n",
       "1335   18  female  36.850         0     no  southeast   1629.83350\n",
       "1336   21  female  25.800         0     no  southwest   2007.94500\n",
       "1337   61  female  29.070         0    yes  northwest  29141.36030\n",
       "\n",
       "[1338 rows x 7 columns]"
      ]
     },
     "execution_count": 3,
     "metadata": {},
     "output_type": "execute_result"
    }
   ],
   "source": [
    "df = pd.read_csv('insurance.csv')\n",
    "df"
   ]
  },
  {
   "cell_type": "markdown",
   "metadata": {},
   "source": [
    "### **Features Description**\n",
    "\n",
    "- age: age of primary beneficiary\n",
    "\n",
    "- sex: insurance contractor gender, female, male\n",
    "\n",
    "- bmi: Body mass index, providing an understanding of body, weights that are relatively high or low relative to height,\n",
    "objective index of body weight (kg / m ^ 2) using the ratio of height to weight, ideally 18.5 to 24.9\n",
    "\n",
    "- children: Number of children covered by health insurance / Number of dependents\n",
    "\n",
    "- smoker: Smoking\n",
    "\n",
    "- region: the beneficiary's residential area in the US, northeast, southeast, southwest, northwest.\n",
    "\n",
    "- charges: Individual medical costs billed by health insurance"
   ]
  },
  {
   "cell_type": "code",
   "execution_count": 4,
   "metadata": {},
   "outputs": [
    {
     "name": "stdout",
     "output_type": "stream",
     "text": [
      "<class 'pandas.core.frame.DataFrame'>\n",
      "RangeIndex: 1338 entries, 0 to 1337\n",
      "Data columns (total 7 columns):\n",
      " #   Column    Non-Null Count  Dtype  \n",
      "---  ------    --------------  -----  \n",
      " 0   age       1338 non-null   int64  \n",
      " 1   sex       1338 non-null   object \n",
      " 2   bmi       1338 non-null   float64\n",
      " 3   children  1338 non-null   int64  \n",
      " 4   smoker    1338 non-null   object \n",
      " 5   region    1338 non-null   object \n",
      " 6   charges   1338 non-null   float64\n",
      "dtypes: float64(2), int64(2), object(3)\n",
      "memory usage: 73.3+ KB\n"
     ]
    }
   ],
   "source": [
    "df.info()"
   ]
  },
  {
   "cell_type": "code",
   "execution_count": 5,
   "metadata": {},
   "outputs": [
    {
     "data": {
      "text/plain": [
       "age         0\n",
       "sex         0\n",
       "bmi         0\n",
       "children    0\n",
       "smoker      0\n",
       "region      0\n",
       "charges     0\n",
       "dtype: int64"
      ]
     },
     "execution_count": 5,
     "metadata": {},
     "output_type": "execute_result"
    }
   ],
   "source": [
    "# check missing values\n",
    "df.isna().sum()"
   ]
  },
  {
   "cell_type": "code",
   "execution_count": 6,
   "metadata": {},
   "outputs": [
    {
     "data": {
      "text/html": [
       "<div>\n",
       "<style scoped>\n",
       "    .dataframe tbody tr th:only-of-type {\n",
       "        vertical-align: middle;\n",
       "    }\n",
       "\n",
       "    .dataframe tbody tr th {\n",
       "        vertical-align: top;\n",
       "    }\n",
       "\n",
       "    .dataframe thead th {\n",
       "        text-align: right;\n",
       "    }\n",
       "</style>\n",
       "<table border=\"1\" class=\"dataframe\">\n",
       "  <thead>\n",
       "    <tr style=\"text-align: right;\">\n",
       "      <th></th>\n",
       "      <th>age</th>\n",
       "      <th>sex</th>\n",
       "      <th>bmi</th>\n",
       "      <th>children</th>\n",
       "      <th>smoker</th>\n",
       "      <th>region</th>\n",
       "      <th>charges</th>\n",
       "    </tr>\n",
       "  </thead>\n",
       "  <tbody>\n",
       "    <tr>\n",
       "      <th>count</th>\n",
       "      <td>1338.000000</td>\n",
       "      <td>1338</td>\n",
       "      <td>1338.000000</td>\n",
       "      <td>1338.000000</td>\n",
       "      <td>1338</td>\n",
       "      <td>1338</td>\n",
       "      <td>1338.000000</td>\n",
       "    </tr>\n",
       "    <tr>\n",
       "      <th>unique</th>\n",
       "      <td>NaN</td>\n",
       "      <td>2</td>\n",
       "      <td>NaN</td>\n",
       "      <td>NaN</td>\n",
       "      <td>2</td>\n",
       "      <td>4</td>\n",
       "      <td>NaN</td>\n",
       "    </tr>\n",
       "    <tr>\n",
       "      <th>top</th>\n",
       "      <td>NaN</td>\n",
       "      <td>male</td>\n",
       "      <td>NaN</td>\n",
       "      <td>NaN</td>\n",
       "      <td>no</td>\n",
       "      <td>southeast</td>\n",
       "      <td>NaN</td>\n",
       "    </tr>\n",
       "    <tr>\n",
       "      <th>freq</th>\n",
       "      <td>NaN</td>\n",
       "      <td>676</td>\n",
       "      <td>NaN</td>\n",
       "      <td>NaN</td>\n",
       "      <td>1064</td>\n",
       "      <td>364</td>\n",
       "      <td>NaN</td>\n",
       "    </tr>\n",
       "    <tr>\n",
       "      <th>mean</th>\n",
       "      <td>39.207025</td>\n",
       "      <td>NaN</td>\n",
       "      <td>30.663397</td>\n",
       "      <td>1.094918</td>\n",
       "      <td>NaN</td>\n",
       "      <td>NaN</td>\n",
       "      <td>13270.422265</td>\n",
       "    </tr>\n",
       "    <tr>\n",
       "      <th>std</th>\n",
       "      <td>14.049960</td>\n",
       "      <td>NaN</td>\n",
       "      <td>6.098187</td>\n",
       "      <td>1.205493</td>\n",
       "      <td>NaN</td>\n",
       "      <td>NaN</td>\n",
       "      <td>12110.011237</td>\n",
       "    </tr>\n",
       "    <tr>\n",
       "      <th>min</th>\n",
       "      <td>18.000000</td>\n",
       "      <td>NaN</td>\n",
       "      <td>15.960000</td>\n",
       "      <td>0.000000</td>\n",
       "      <td>NaN</td>\n",
       "      <td>NaN</td>\n",
       "      <td>1121.873900</td>\n",
       "    </tr>\n",
       "    <tr>\n",
       "      <th>25%</th>\n",
       "      <td>27.000000</td>\n",
       "      <td>NaN</td>\n",
       "      <td>26.296250</td>\n",
       "      <td>0.000000</td>\n",
       "      <td>NaN</td>\n",
       "      <td>NaN</td>\n",
       "      <td>4740.287150</td>\n",
       "    </tr>\n",
       "    <tr>\n",
       "      <th>50%</th>\n",
       "      <td>39.000000</td>\n",
       "      <td>NaN</td>\n",
       "      <td>30.400000</td>\n",
       "      <td>1.000000</td>\n",
       "      <td>NaN</td>\n",
       "      <td>NaN</td>\n",
       "      <td>9382.033000</td>\n",
       "    </tr>\n",
       "    <tr>\n",
       "      <th>75%</th>\n",
       "      <td>51.000000</td>\n",
       "      <td>NaN</td>\n",
       "      <td>34.693750</td>\n",
       "      <td>2.000000</td>\n",
       "      <td>NaN</td>\n",
       "      <td>NaN</td>\n",
       "      <td>16639.912515</td>\n",
       "    </tr>\n",
       "    <tr>\n",
       "      <th>max</th>\n",
       "      <td>64.000000</td>\n",
       "      <td>NaN</td>\n",
       "      <td>53.130000</td>\n",
       "      <td>5.000000</td>\n",
       "      <td>NaN</td>\n",
       "      <td>NaN</td>\n",
       "      <td>63770.428010</td>\n",
       "    </tr>\n",
       "  </tbody>\n",
       "</table>\n",
       "</div>"
      ],
      "text/plain": [
       "                age   sex          bmi     children smoker     region  \\\n",
       "count   1338.000000  1338  1338.000000  1338.000000   1338       1338   \n",
       "unique          NaN     2          NaN          NaN      2          4   \n",
       "top             NaN  male          NaN          NaN     no  southeast   \n",
       "freq            NaN   676          NaN          NaN   1064        364   \n",
       "mean      39.207025   NaN    30.663397     1.094918    NaN        NaN   \n",
       "std       14.049960   NaN     6.098187     1.205493    NaN        NaN   \n",
       "min       18.000000   NaN    15.960000     0.000000    NaN        NaN   \n",
       "25%       27.000000   NaN    26.296250     0.000000    NaN        NaN   \n",
       "50%       39.000000   NaN    30.400000     1.000000    NaN        NaN   \n",
       "75%       51.000000   NaN    34.693750     2.000000    NaN        NaN   \n",
       "max       64.000000   NaN    53.130000     5.000000    NaN        NaN   \n",
       "\n",
       "             charges  \n",
       "count    1338.000000  \n",
       "unique           NaN  \n",
       "top              NaN  \n",
       "freq             NaN  \n",
       "mean    13270.422265  \n",
       "std     12110.011237  \n",
       "min      1121.873900  \n",
       "25%      4740.287150  \n",
       "50%      9382.033000  \n",
       "75%     16639.912515  \n",
       "max     63770.428010  "
      ]
     },
     "execution_count": 6,
     "metadata": {},
     "output_type": "execute_result"
    }
   ],
   "source": [
    "df.describe(include='all')"
   ]
  },
  {
   "cell_type": "markdown",
   "metadata": {},
   "source": [
    "## **Simple EDA**"
   ]
  },
  {
   "cell_type": "code",
   "execution_count": 7,
   "metadata": {},
   "outputs": [
    {
     "data": {
      "text/plain": [
       "['sex', 'smoker', 'region']"
      ]
     },
     "execution_count": 7,
     "metadata": {},
     "output_type": "execute_result"
    }
   ],
   "source": [
    "cat_features = [feature for feature in df.columns if (df[feature].dtypes == 'O')]\n",
    "cat_features"
   ]
  },
  {
   "cell_type": "code",
   "execution_count": 8,
   "metadata": {},
   "outputs": [
    {
     "data": {
      "text/plain": [
       "['age', 'bmi', 'children']"
      ]
     },
     "execution_count": 8,
     "metadata": {},
     "output_type": "execute_result"
    }
   ],
   "source": [
    "num_features = [feature for feature in df.columns if ((df[feature].dtypes != 'O') & (feature not in ['charges']))]\n",
    "num_features"
   ]
  },
  {
   "cell_type": "code",
   "execution_count": 9,
   "metadata": {},
   "outputs": [
    {
     "name": "stdout",
     "output_type": "stream",
     "text": [
      "Total unique values in sex:  2\n",
      "Unique values:  ['female' 'male']\n",
      "\n",
      "Total unique values in smoker:  2\n",
      "Unique values:  ['yes' 'no']\n",
      "\n",
      "Total unique values in region:  4\n",
      "Unique values:  ['southwest' 'southeast' 'northwest' 'northeast']\n",
      "\n"
     ]
    }
   ],
   "source": [
    "# category pada categorical features\n",
    "for i in cat_features:\n",
    "    print(f'Total unique values in {i}: ', df[i].nunique())\n",
    "    print(f'Unique values: ', df[i].unique())\n",
    "    print()"
   ]
  },
  {
   "cell_type": "code",
   "execution_count": 10,
   "metadata": {},
   "outputs": [
    {
     "data": {
      "text/plain": [
       "age         0.299008\n",
       "bmi         0.198341\n",
       "children    0.067998\n",
       "charges     1.000000\n",
       "Name: charges, dtype: float64"
      ]
     },
     "execution_count": 10,
     "metadata": {},
     "output_type": "execute_result"
    }
   ],
   "source": [
    "df.corr()['charges']"
   ]
  },
  {
   "cell_type": "code",
   "execution_count": 11,
   "metadata": {},
   "outputs": [
    {
     "data": {
      "image/png": "[encoded data removed]",
      "text/plain": [
       "<Figure size 432x288 with 1 Axes>"
      ]
     },
     "metadata": {},
     "output_type": "display_data"
    }
   ],
   "source": [
    "sns.set(style='whitegrid', palette='Set3')\n",
    "sns.boxplot(x='charges', data=df);"
   ]
  },
  {
   "cell_type": "markdown",
   "metadata": {},
   "source": [
    "### **Plot of categorical features**"
   ]
  },
  {
   "cell_type": "code",
   "execution_count": 12,
   "metadata": {},
   "outputs": [
    {
     "data": {
      "image/png": "[encoded data removed]",
      "text/plain": [
       "<Figure size 1080x720 with 3 Axes>"
      ]
     },
     "metadata": {},
     "output_type": "display_data"
    }
   ],
   "source": [
    "plt.figure(figsize=(15, 10), facecolor='white')\n",
    "sns.set(style='whitegrid', palette='Set3')\n",
    "plotnumber = 1\n",
    "\n",
    "for feature in cat_features:\n",
    "    ax = plt.subplot(2, 2, plotnumber)\n",
    "    sns.barplot(x = 'charges', y = feature, data = df)\n",
    "    plt.xlabel('charges')\n",
    "    plt.title(feature)\n",
    "    plotnumber += 1\n",
    "    plt.tight_layout();"
   ]
  },
  {
   "cell_type": "markdown",
   "metadata": {},
   "source": [
    "### **Plot of numerical features**"
   ]
  },
  {
   "cell_type": "code",
   "execution_count": 13,
   "metadata": {},
   "outputs": [
    {
     "data": {
      "image/png": "[encoded data removed]",
      "text/plain": [
       "<Figure size 1080x720 with 3 Axes>"
      ]
     },
     "metadata": {},
     "output_type": "display_data"
    }
   ],
   "source": [
    "plt.figure(figsize=(15, 10), facecolor='white')\n",
    "sns.set(style='whitegrid', palette='Set3')\n",
    "plotnumber = 1\n",
    "\n",
    "for feature in num_features:\n",
    "    ax = plt.subplot(2, 2, plotnumber)\n",
    "    sns.scatterplot(x = 'charges', y = feature, data = df)\n",
    "    plt.xlabel('charges')\n",
    "    plt.title(feature, fontsize=20)\n",
    "    plotnumber += 1\n",
    "    plt.tight_layout();"
   ]
  },
  {
   "cell_type": "markdown",
   "metadata": {},
   "source": [
    "## **Data Splitting**"
   ]
  },
  {
   "cell_type": "code",
   "execution_count": 14,
   "metadata": {},
   "outputs": [
    {
     "data": {
      "text/html": [
       "<div>\n",
       "<style scoped>\n",
       "    .dataframe tbody tr th:only-of-type {\n",
       "        vertical-align: middle;\n",
       "    }\n",
       "\n",
       "    .dataframe tbody tr th {\n",
       "        vertical-align: top;\n",
       "    }\n",
       "\n",
       "    .dataframe thead th {\n",
       "        text-align: right;\n",
       "    }\n",
       "</style>\n",
       "<table border=\"1\" class=\"dataframe\">\n",
       "  <thead>\n",
       "    <tr style=\"text-align: right;\">\n",
       "      <th></th>\n",
       "      <th>age</th>\n",
       "      <th>sex</th>\n",
       "      <th>bmi</th>\n",
       "      <th>children</th>\n",
       "      <th>smoker</th>\n",
       "      <th>region</th>\n",
       "      <th>charges</th>\n",
       "    </tr>\n",
       "  </thead>\n",
       "  <tbody>\n",
       "    <tr>\n",
       "      <th>0</th>\n",
       "      <td>19</td>\n",
       "      <td>female</td>\n",
       "      <td>27.900</td>\n",
       "      <td>0</td>\n",
       "      <td>yes</td>\n",
       "      <td>southwest</td>\n",
       "      <td>16884.92400</td>\n",
       "    </tr>\n",
       "    <tr>\n",
       "      <th>1</th>\n",
       "      <td>18</td>\n",
       "      <td>male</td>\n",
       "      <td>33.770</td>\n",
       "      <td>1</td>\n",
       "      <td>no</td>\n",
       "      <td>southeast</td>\n",
       "      <td>1725.55230</td>\n",
       "    </tr>\n",
       "    <tr>\n",
       "      <th>2</th>\n",
       "      <td>28</td>\n",
       "      <td>male</td>\n",
       "      <td>33.000</td>\n",
       "      <td>3</td>\n",
       "      <td>no</td>\n",
       "      <td>southeast</td>\n",
       "      <td>4449.46200</td>\n",
       "    </tr>\n",
       "    <tr>\n",
       "      <th>3</th>\n",
       "      <td>33</td>\n",
       "      <td>male</td>\n",
       "      <td>22.705</td>\n",
       "      <td>0</td>\n",
       "      <td>no</td>\n",
       "      <td>northwest</td>\n",
       "      <td>21984.47061</td>\n",
       "    </tr>\n",
       "    <tr>\n",
       "      <th>4</th>\n",
       "      <td>32</td>\n",
       "      <td>male</td>\n",
       "      <td>28.880</td>\n",
       "      <td>0</td>\n",
       "      <td>no</td>\n",
       "      <td>northwest</td>\n",
       "      <td>3866.85520</td>\n",
       "    </tr>\n",
       "  </tbody>\n",
       "</table>\n",
       "</div>"
      ],
      "text/plain": [
       "   age     sex     bmi  children smoker     region      charges\n",
       "0   19  female  27.900         0    yes  southwest  16884.92400\n",
       "1   18    male  33.770         1     no  southeast   1725.55230\n",
       "2   28    male  33.000         3     no  southeast   4449.46200\n",
       "3   33    male  22.705         0     no  northwest  21984.47061\n",
       "4   32    male  28.880         0     no  northwest   3866.85520"
      ]
     },
     "execution_count": 14,
     "metadata": {},
     "output_type": "execute_result"
    }
   ],
   "source": [
    "df.head()"
   ]
  },
  {
   "cell_type": "code",
   "execution_count": 15,
   "metadata": {},
   "outputs": [],
   "source": [
    "# Define X and y\n",
    "X = df.drop(columns='charges')\n",
    "y = df['charges']"
   ]
  },
  {
   "cell_type": "code",
   "execution_count": 16,
   "metadata": {},
   "outputs": [],
   "source": [
    "# Split\n",
    "X_train, X_test, y_train, y_test = train_test_split(\n",
    "    X, \n",
    "    y,\n",
    "    test_size=0.2,\n",
    "    random_state=0\n",
    ")"
   ]
  },
  {
   "cell_type": "markdown",
   "metadata": {},
   "source": [
    "## **Feature Transformation**"
   ]
  },
  {
   "cell_type": "code",
   "execution_count": 17,
   "metadata": {},
   "outputs": [],
   "source": [
    "transformer = ColumnTransformer([\n",
    "    ('one hot', OneHotEncoder(drop='first'), ['sex', 'smoker', 'region'])\n",
    "], remainder='passthrough')"
   ]
  },
  {
   "cell_type": "code",
   "execution_count": 18,
   "metadata": {},
   "outputs": [],
   "source": [
    "# transform features (satu persatu, tanpa Pipeline)\n",
    "X_train_prep = pd.DataFrame(transformer.fit_transform(X_train))\n",
    "X_test_prep = pd.DataFrame(transformer.transform(X_test))"
   ]
  },
  {
   "cell_type": "code",
   "execution_count": 19,
   "metadata": {},
   "outputs": [
    {
     "data": {
      "text/html": [
       "<div>\n",
       "<style scoped>\n",
       "    .dataframe tbody tr th:only-of-type {\n",
       "        vertical-align: middle;\n",
       "    }\n",
       "\n",
       "    .dataframe tbody tr th {\n",
       "        vertical-align: top;\n",
       "    }\n",
       "\n",
       "    .dataframe thead th {\n",
       "        text-align: right;\n",
       "    }\n",
       "</style>\n",
       "<table border=\"1\" class=\"dataframe\">\n",
       "  <thead>\n",
       "    <tr style=\"text-align: right;\">\n",
       "      <th></th>\n",
       "      <th>0</th>\n",
       "      <th>1</th>\n",
       "      <th>2</th>\n",
       "      <th>3</th>\n",
       "      <th>4</th>\n",
       "      <th>5</th>\n",
       "      <th>6</th>\n",
       "      <th>7</th>\n",
       "    </tr>\n",
       "  </thead>\n",
       "  <tbody>\n",
       "    <tr>\n",
       "      <th>0</th>\n",
       "      <td>1.0</td>\n",
       "      <td>1.0</td>\n",
       "      <td>0.0</td>\n",
       "      <td>0.0</td>\n",
       "      <td>1.0</td>\n",
       "      <td>37.0</td>\n",
       "      <td>34.100</td>\n",
       "      <td>4.0</td>\n",
       "    </tr>\n",
       "    <tr>\n",
       "      <th>1</th>\n",
       "      <td>1.0</td>\n",
       "      <td>0.0</td>\n",
       "      <td>0.0</td>\n",
       "      <td>1.0</td>\n",
       "      <td>0.0</td>\n",
       "      <td>18.0</td>\n",
       "      <td>34.430</td>\n",
       "      <td>0.0</td>\n",
       "    </tr>\n",
       "    <tr>\n",
       "      <th>2</th>\n",
       "      <td>0.0</td>\n",
       "      <td>1.0</td>\n",
       "      <td>0.0</td>\n",
       "      <td>0.0</td>\n",
       "      <td>0.0</td>\n",
       "      <td>23.0</td>\n",
       "      <td>36.670</td>\n",
       "      <td>2.0</td>\n",
       "    </tr>\n",
       "    <tr>\n",
       "      <th>3</th>\n",
       "      <td>1.0</td>\n",
       "      <td>0.0</td>\n",
       "      <td>0.0</td>\n",
       "      <td>0.0</td>\n",
       "      <td>1.0</td>\n",
       "      <td>32.0</td>\n",
       "      <td>35.200</td>\n",
       "      <td>2.0</td>\n",
       "    </tr>\n",
       "    <tr>\n",
       "      <th>4</th>\n",
       "      <td>0.0</td>\n",
       "      <td>0.0</td>\n",
       "      <td>0.0</td>\n",
       "      <td>0.0</td>\n",
       "      <td>0.0</td>\n",
       "      <td>58.0</td>\n",
       "      <td>32.395</td>\n",
       "      <td>1.0</td>\n",
       "    </tr>\n",
       "  </tbody>\n",
       "</table>\n",
       "</div>"
      ],
      "text/plain": [
       "     0    1    2    3    4     5       6    7\n",
       "0  1.0  1.0  0.0  0.0  1.0  37.0  34.100  4.0\n",
       "1  1.0  0.0  0.0  1.0  0.0  18.0  34.430  0.0\n",
       "2  0.0  1.0  0.0  0.0  0.0  23.0  36.670  2.0\n",
       "3  1.0  0.0  0.0  0.0  1.0  32.0  35.200  2.0\n",
       "4  0.0  0.0  0.0  0.0  0.0  58.0  32.395  1.0"
      ]
     },
     "execution_count": 19,
     "metadata": {},
     "output_type": "execute_result"
    }
   ],
   "source": [
    "X_train_prep.head()"
   ]
  },
  {
   "cell_type": "markdown",
   "metadata": {},
   "source": [
    "## **Feature Scaling**"
   ]
  },
  {
   "cell_type": "code",
   "execution_count": 20,
   "metadata": {},
   "outputs": [],
   "source": [
    "# scaling features (satu persatu, tanpa Pipeline)\n",
    "scaler = RobustScaler()\n",
    "\n",
    "X_train_prep_scaled = pd.DataFrame(scaler.fit_transform(X_train_prep))\n",
    "X_test_prep_scaled = pd.DataFrame(scaler.transform(X_test_prep))"
   ]
  },
  {
   "cell_type": "code",
   "execution_count": 21,
   "metadata": {},
   "outputs": [
    {
     "data": {
      "text/html": [
       "<div>\n",
       "<style scoped>\n",
       "    .dataframe tbody tr th:only-of-type {\n",
       "        vertical-align: middle;\n",
       "    }\n",
       "\n",
       "    .dataframe tbody tr th {\n",
       "        vertical-align: top;\n",
       "    }\n",
       "\n",
       "    .dataframe thead th {\n",
       "        text-align: right;\n",
       "    }\n",
       "</style>\n",
       "<table border=\"1\" class=\"dataframe\">\n",
       "  <thead>\n",
       "    <tr style=\"text-align: right;\">\n",
       "      <th></th>\n",
       "      <th>0</th>\n",
       "      <th>1</th>\n",
       "      <th>2</th>\n",
       "      <th>3</th>\n",
       "      <th>4</th>\n",
       "      <th>5</th>\n",
       "      <th>6</th>\n",
       "      <th>7</th>\n",
       "    </tr>\n",
       "  </thead>\n",
       "  <tbody>\n",
       "    <tr>\n",
       "      <th>0</th>\n",
       "      <td>1.0</td>\n",
       "      <td>1.0</td>\n",
       "      <td>0.0</td>\n",
       "      <td>0.0</td>\n",
       "      <td>1.0</td>\n",
       "      <td>-0.08</td>\n",
       "      <td>0.436449</td>\n",
       "      <td>1.5</td>\n",
       "    </tr>\n",
       "    <tr>\n",
       "      <th>1</th>\n",
       "      <td>1.0</td>\n",
       "      <td>0.0</td>\n",
       "      <td>0.0</td>\n",
       "      <td>1.0</td>\n",
       "      <td>0.0</td>\n",
       "      <td>-0.84</td>\n",
       "      <td>0.475376</td>\n",
       "      <td>-0.5</td>\n",
       "    </tr>\n",
       "    <tr>\n",
       "      <th>2</th>\n",
       "      <td>0.0</td>\n",
       "      <td>1.0</td>\n",
       "      <td>0.0</td>\n",
       "      <td>0.0</td>\n",
       "      <td>0.0</td>\n",
       "      <td>-0.64</td>\n",
       "      <td>0.739605</td>\n",
       "      <td>0.5</td>\n",
       "    </tr>\n",
       "    <tr>\n",
       "      <th>3</th>\n",
       "      <td>1.0</td>\n",
       "      <td>0.0</td>\n",
       "      <td>0.0</td>\n",
       "      <td>0.0</td>\n",
       "      <td>1.0</td>\n",
       "      <td>-0.28</td>\n",
       "      <td>0.566205</td>\n",
       "      <td>0.5</td>\n",
       "    </tr>\n",
       "    <tr>\n",
       "      <th>4</th>\n",
       "      <td>0.0</td>\n",
       "      <td>0.0</td>\n",
       "      <td>0.0</td>\n",
       "      <td>0.0</td>\n",
       "      <td>0.0</td>\n",
       "      <td>0.76</td>\n",
       "      <td>0.235329</td>\n",
       "      <td>0.0</td>\n",
       "    </tr>\n",
       "  </tbody>\n",
       "</table>\n",
       "</div>"
      ],
      "text/plain": [
       "     0    1    2    3    4     5         6    7\n",
       "0  1.0  1.0  0.0  0.0  1.0 -0.08  0.436449  1.5\n",
       "1  1.0  0.0  0.0  1.0  0.0 -0.84  0.475376 -0.5\n",
       "2  0.0  1.0  0.0  0.0  0.0 -0.64  0.739605  0.5\n",
       "3  1.0  0.0  0.0  0.0  1.0 -0.28  0.566205  0.5\n",
       "4  0.0  0.0  0.0  0.0  0.0  0.76  0.235329  0.0"
      ]
     },
     "execution_count": 21,
     "metadata": {},
     "output_type": "execute_result"
    }
   ],
   "source": [
    "X_train_prep_scaled.head()"
   ]
  },
  {
   "cell_type": "markdown",
   "metadata": {},
   "source": [
    "## **Model Benchmark**\n",
    "Mencari algoritma terbaik untuk digunakan pada dataset ini dengan menggunakan cross validation. Belum melakukan hyperparameter tuning "
   ]
  },
  {
   "cell_type": "code",
   "execution_count": 22,
   "metadata": {},
   "outputs": [
    {
     "data": {
      "text/plain": [
       "dict_keys(['explained_variance', 'r2', 'max_error', 'neg_median_absolute_error', 'neg_mean_absolute_error', 'neg_mean_absolute_percentage_error', 'neg_mean_squared_error', 'neg_mean_squared_log_error', 'neg_root_mean_squared_error', 'neg_mean_poisson_deviance', 'neg_mean_gamma_deviance', 'accuracy', 'top_k_accuracy', 'roc_auc', 'roc_auc_ovr', 'roc_auc_ovo', 'roc_auc_ovr_weighted', 'roc_auc_ovo_weighted', 'balanced_accuracy', 'average_precision', 'neg_log_loss', 'neg_brier_score', 'adjusted_rand_score', 'rand_score', 'homogeneity_score', 'completeness_score', 'v_measure_score', 'mutual_info_score', 'adjusted_mutual_info_score', 'normalized_mutual_info_score', 'fowlkes_mallows_score', 'precision', 'precision_macro', 'precision_micro', 'precision_samples', 'precision_weighted', 'recall', 'recall_macro', 'recall_micro', 'recall_samples', 'recall_weighted', 'f1', 'f1_macro', 'f1_micro', 'f1_samples', 'f1_weighted', 'jaccard', 'jaccard_macro', 'jaccard_micro', 'jaccard_samples', 'jaccard_weighted'])"
      ]
     },
     "execution_count": 22,
     "metadata": {},
     "output_type": "execute_result"
    }
   ],
   "source": [
    "# macam-macam metrics\n",
    "from sklearn import metrics\n",
    "metrics.SCORERS.keys()"
   ]
  },
  {
   "cell_type": "code",
   "execution_count": 23,
   "metadata": {},
   "outputs": [],
   "source": [
    "# Define models (3 kandidat model)\n",
    "linreg = LinearRegression(fit_intercept=True)\n",
    "knn = KNeighborsRegressor(n_neighbors=5)\n",
    "tree = DecisionTreeRegressor(criterion='mae', min_samples_leaf=1, max_depth=5, random_state=0)"
   ]
  },
  {
   "cell_type": "code",
   "execution_count": 24,
   "metadata": {},
   "outputs": [
    {
     "name": "stdout",
     "output_type": "stream",
     "text": [
      "LinearRegression() \n",
      " [-4285.73672206 -3922.02986453 -4122.67469177 -4288.75441939\n",
      " -4758.76255886]\n",
      "KNeighborsRegressor() \n",
      " [-4012.41029687 -3063.47497909 -3904.70236337 -3559.85774314\n",
      " -4240.09854134]\n",
      "DecisionTreeRegressor(criterion='mae', max_depth=5, random_state=0) \n",
      " [-1914.71916079 -1804.28627757 -2047.27315308 -2297.89898161\n",
      " -2637.65756484]\n"
     ]
    }
   ],
   "source": [
    "# pilihan model algoritma\n",
    "models = [linreg, knn, tree]\n",
    "\n",
    "nilai_mean = []\n",
    "nilai_std = []\n",
    "\n",
    "# mencari model terbaik berdasarkan MAE terkecil\n",
    "for i in models:\n",
    "    \n",
    "    model_cv = cross_val_score(\n",
    "        i, \n",
    "        X_train_prep_scaled, # menggunakan X_train yang sudah di-tansform dan di-scaling\n",
    "        y_train, \n",
    "        scoring = 'neg_mean_absolute_error')\n",
    "\n",
    "    nilai_mean.append(model_cv.mean())\n",
    "    nilai_std.append(model_cv.std())\n",
    "\n",
    "    print(i,'\\n', model_cv)"
   ]
  },
  {
   "cell_type": "code",
   "execution_count": 25,
   "metadata": {},
   "outputs": [
    {
     "data": {
      "text/html": [
       "<div>\n",
       "<style scoped>\n",
       "    .dataframe tbody tr th:only-of-type {\n",
       "        vertical-align: middle;\n",
       "    }\n",
       "\n",
       "    .dataframe tbody tr th {\n",
       "        vertical-align: top;\n",
       "    }\n",
       "\n",
       "    .dataframe thead th {\n",
       "        text-align: right;\n",
       "    }\n",
       "</style>\n",
       "<table border=\"1\" class=\"dataframe\">\n",
       "  <thead>\n",
       "    <tr style=\"text-align: right;\">\n",
       "      <th></th>\n",
       "      <th>model</th>\n",
       "      <th>mean</th>\n",
       "      <th>std</th>\n",
       "    </tr>\n",
       "  </thead>\n",
       "  <tbody>\n",
       "    <tr>\n",
       "      <th>0</th>\n",
       "      <td>Linear Regression</td>\n",
       "      <td>-4275.591651</td>\n",
       "      <td>276.448853</td>\n",
       "    </tr>\n",
       "    <tr>\n",
       "      <th>1</th>\n",
       "      <td>KNN Regressor</td>\n",
       "      <td>-3756.108785</td>\n",
       "      <td>409.944548</td>\n",
       "    </tr>\n",
       "    <tr>\n",
       "      <th>2</th>\n",
       "      <td>Decision Tree Regressor</td>\n",
       "      <td>-2140.367028</td>\n",
       "      <td>298.210629</td>\n",
       "    </tr>\n",
       "  </tbody>\n",
       "</table>\n",
       "</div>"
      ],
      "text/plain": [
       "                     model         mean         std\n",
       "0        Linear Regression -4275.591651  276.448853\n",
       "1            KNN Regressor -3756.108785  409.944548\n",
       "2  Decision Tree Regressor -2140.367028  298.210629"
      ]
     },
     "execution_count": 25,
     "metadata": {},
     "output_type": "execute_result"
    }
   ],
   "source": [
    "# Perbandingan performa antar model\n",
    "pd.DataFrame({\n",
    "    'model':['Linear Regression', 'KNN Regressor', 'Decision Tree Regressor'],\n",
    "    'mean': nilai_mean,\n",
    "    'std': nilai_std\n",
    "})\n",
    "\n",
    " "
   ]
  },
  {
   "cell_type": "markdown",
   "metadata": {},
   "source": [
    "**WARNING!!!**\n",
    "- Tahap modeling seperti di atas ini (preprocessingnya manual) tidak direkomendasikan karena dapat menimbulkan information leakage.\n",
    "- Nanti bisa bandingkan score KNN di sini (preprocessingnya manual) dengan setelah ini (preprocessingnya dengan Pipeline).\n",
    "- Score (khususnya KNN) di sini lebih bagus dari pada yang menggunakan Pipeline, karena di sini (preprocessing manual) terjadi information leakage. "
   ]
  },
  {
   "cell_type": "code",
   "execution_count": null,
   "metadata": {},
   "outputs": [],
   "source": []
  },
  {
   "cell_type": "markdown",
   "metadata": {},
   "source": [
    "## **Model Benchmark (dengan Pipeline)**\n",
    "- Di sini kita coba melakukan modeling dengan pipeline (transform dan scaling feature dilakukan dalam satu tahap).\n",
    "- Disarankan menggunakan Pipeline untuk menghindari information leakage.\n",
    "- Contoh yang benar: pada Split 1, seharusnya Fold 1 tidak ikut di-fit_transform, seharusnya Fold 1 hanya di-transform saja \n",
    "- Dengan menggunakan Pipeline, pada Split 1, otomatis Fold 1 tidak ikut di-fit_transform, tetapi Fold 1 hanya di-transform saja.  "
   ]
  },
  {
   "cell_type": "markdown",
   "metadata": {},
   "source": [
    "<img src=\"https://scikit-learn.org/stable/_images/grid_search_cross_validation.png\" alt=\"Drawing\" style=\"width: 600px;\"/>\n"
   ]
  },
  {
   "cell_type": "code",
   "execution_count": 26,
   "metadata": {},
   "outputs": [
    {
     "name": "stdout",
     "output_type": "stream",
     "text": [
      "LinearRegression() \n",
      " [-4285.73672206 -3922.02986453 -4122.67469177 -4288.75441939\n",
      " -4758.76255886]\n",
      "KNeighborsRegressor() \n",
      " [-4012.41029687 -3091.45318916 -3970.39145394 -3551.54160968\n",
      " -4253.57736236]\n",
      "DecisionTreeRegressor(criterion='mae', max_depth=5, random_state=0) \n",
      " [-1914.71916079 -1804.28627757 -2047.27315308 -2297.89898161\n",
      " -2637.65756484]\n"
     ]
    }
   ],
   "source": [
    "# pilihan model algoritma\n",
    "models = [linreg, knn, tree]\n",
    "\n",
    "nilai_mean = []\n",
    "nilai_std = []\n",
    "\n",
    "# mencari model terbaik berdasarkan MAE terkecil\n",
    "for i in models:\n",
    "\n",
    "    # Pipeline berisi 3 tahap, untuk diisi di pada estimator di cross val\n",
    "    estimator=Pipeline([\n",
    "                        ('preprocess', transformer),\n",
    "                        ('scaler', RobustScaler()),\n",
    "                        ('model', i)\n",
    "                    ])\n",
    "\n",
    "    # cross val\n",
    "    model_cv = cross_val_score(\n",
    "        estimator = estimator, \n",
    "        X = X_train, # menggunakan X_train awal (karena transform dan scaling dilakukan di Pipeline)\n",
    "        y = y_train, \n",
    "        cv = 5,\n",
    "        scoring = 'neg_mean_absolute_error'\n",
    "        )\n",
    "\n",
    "    nilai_mean.append(model_cv.mean())\n",
    "    nilai_std.append(model_cv.std())\n",
    "\n",
    "    print(i,'\\n', model_cv)\n"
   ]
  },
  {
   "cell_type": "code",
   "execution_count": 27,
   "metadata": {},
   "outputs": [
    {
     "data": {
      "text/html": [
       "<div>\n",
       "<style scoped>\n",
       "    .dataframe tbody tr th:only-of-type {\n",
       "        vertical-align: middle;\n",
       "    }\n",
       "\n",
       "    .dataframe tbody tr th {\n",
       "        vertical-align: top;\n",
       "    }\n",
       "\n",
       "    .dataframe thead th {\n",
       "        text-align: right;\n",
       "    }\n",
       "</style>\n",
       "<table border=\"1\" class=\"dataframe\">\n",
       "  <thead>\n",
       "    <tr style=\"text-align: right;\">\n",
       "      <th></th>\n",
       "      <th>model</th>\n",
       "      <th>mean</th>\n",
       "      <th>std</th>\n",
       "    </tr>\n",
       "  </thead>\n",
       "  <tbody>\n",
       "    <tr>\n",
       "      <th>0</th>\n",
       "      <td>Linear Regression</td>\n",
       "      <td>-4275.591651</td>\n",
       "      <td>276.448853</td>\n",
       "    </tr>\n",
       "    <tr>\n",
       "      <th>1</th>\n",
       "      <td>KNN Regressor</td>\n",
       "      <td>-3775.874782</td>\n",
       "      <td>410.059466</td>\n",
       "    </tr>\n",
       "    <tr>\n",
       "      <th>2</th>\n",
       "      <td>Decision Tree Regressor</td>\n",
       "      <td>-2140.367028</td>\n",
       "      <td>298.210629</td>\n",
       "    </tr>\n",
       "  </tbody>\n",
       "</table>\n",
       "</div>"
      ],
      "text/plain": [
       "                     model         mean         std\n",
       "0        Linear Regression -4275.591651  276.448853\n",
       "1            KNN Regressor -3775.874782  410.059466\n",
       "2  Decision Tree Regressor -2140.367028  298.210629"
      ]
     },
     "execution_count": 27,
     "metadata": {},
     "output_type": "execute_result"
    }
   ],
   "source": [
    "# Perbandingan performa antar model\n",
    "pd.DataFrame({\n",
    "    'model':['Linear Regression', 'KNN Regressor', 'Decision Tree Regressor'],\n",
    "    'mean': nilai_mean,\n",
    "    'std': nilai_std\n",
    "})"
   ]
  },
  {
   "cell_type": "markdown",
   "metadata": {},
   "source": [
    "### **Interpretasi**\n",
    "\n",
    "- Dari ketiga model yang dicoba, ternyata model decision tree regressor menghasilkan error yang paling kecil, dengan perbedaan yang cukup signifikan.\n",
    "- Decision Tree Regressor juga cukup stabil, walauun Linear Regressio sedikit lebih stabil \n",
    "- Untuk selanjutnya, hanya model decision tree regressor saja yang akan diuji pada test set dan juga dilakukan tuning."
   ]
  },
  {
   "cell_type": "code",
   "execution_count": null,
   "metadata": {},
   "outputs": [],
   "source": []
  },
  {
   "cell_type": "markdown",
   "metadata": {},
   "source": [
    "## **Model Performance in Test Set**\n",
    "Sekarang kita predict model tree-nya pada Test set dan lihat hasil performanya"
   ]
  },
  {
   "cell_type": "code",
   "execution_count": 28,
   "metadata": {},
   "outputs": [
    {
     "data": {
      "text/plain": [
       "Pipeline(steps=[('preprocess',\n",
       "                 ColumnTransformer(remainder='passthrough',\n",
       "                                   transformers=[('one hot',\n",
       "                                                  OneHotEncoder(drop='first'),\n",
       "                                                  ['sex', 'smoker',\n",
       "                                                   'region'])])),\n",
       "                ('scaler', RobustScaler()),\n",
       "                ('model',\n",
       "                 DecisionTreeRegressor(criterion='mae', max_depth=5,\n",
       "                                       random_state=0))])"
      ]
     },
     "execution_count": 28,
     "metadata": {},
     "output_type": "execute_result"
    }
   ],
   "source": [
    "# model benchmark\n",
    "tree_pipeline = Pipeline([\n",
    "    ('preprocess', transformer),\n",
    "    ('scaler', RobustScaler()),\n",
    "    ('model', tree)\n",
    "])\n",
    "\n",
    "# fitting\n",
    "tree_pipeline.fit(X_train, y_train)"
   ]
  },
  {
   "cell_type": "code",
   "execution_count": 29,
   "metadata": {},
   "outputs": [],
   "source": [
    "# predict\n",
    "y_pred = tree_pipeline.predict(X_test)"
   ]
  },
  {
   "cell_type": "code",
   "execution_count": 30,
   "metadata": {},
   "outputs": [
    {
     "name": "stdout",
     "output_type": "stream",
     "text": [
      "MSE: 24249019.226462997\n",
      "RMSE: 4924.329317426181\n",
      "MAE: 1985.4698345485076\n"
     ]
    }
   ],
   "source": [
    "# Metric evaluation\n",
    "mse = mean_squared_error(y_test, y_pred)\n",
    "rmse = np.sqrt(mse)\n",
    "mae = mean_absolute_error(y_test, y_pred)\n",
    "\n",
    "print('MSE:', mse)\n",
    "print('RMSE:', rmse)\n",
    "print('MAE:', mae)"
   ]
  },
  {
   "cell_type": "code",
   "execution_count": null,
   "metadata": {},
   "outputs": [],
   "source": []
  },
  {
   "cell_type": "markdown",
   "metadata": {},
   "source": [
    "## **Hyperparameter Tuning**\n",
    "Cari hyperparameter terbaik untuk decision tree"
   ]
  },
  {
   "cell_type": "code",
   "execution_count": 31,
   "metadata": {},
   "outputs": [],
   "source": [
    "# hyperparameter yang akan diisikan pada model (tree)\n",
    "hyperparam_space = {\n",
    "    'model__criterion':['mae','mse'],                    # benchmark: mae\n",
    "    'model__min_samples_leaf': [1, 5, 10, 15, 20, 50],   # benchmark: 1\n",
    "    'model__max_depth':[5, 6, 7, 8, 9, 10]               # benchmark: 5\n",
    "    # 'scaler':[StandardScaler(), MinMaxScaler(), RobustScaler()]\n",
    "} "
   ]
  },
  {
   "cell_type": "code",
   "execution_count": 32,
   "metadata": {},
   "outputs": [],
   "source": [
    "# model benchmark\n",
    "tree = DecisionTreeRegressor(criterion='mae', min_samples_leaf=1, max_depth=5, random_state=0)\n",
    "\n",
    "# model dalam pipeline\n",
    "tree_pipeline = Pipeline([\n",
    "    ('preprocess', transformer),\n",
    "    ('scaler', RobustScaler()),\n",
    "    ('model', tree)\n",
    "])\n",
    "\n",
    "\n",
    "# Grid search (mencari hyperparameter terbaik)\n",
    "grid_search = GridSearchCV(\n",
    "    estimator = tree_pipeline,           # model to tune\n",
    "    param_grid = hyperparam_space,       # hyperparam space\n",
    "    cv = 5,\n",
    "    scoring = 'neg_mean_absolute_error', # metric\n",
    "    n_jobs= -1\n",
    ") "
   ]
  },
  {
   "cell_type": "code",
   "execution_count": 33,
   "metadata": {},
   "outputs": [],
   "source": [
    "# estimator.get_params().keys()"
   ]
  },
  {
   "cell_type": "code",
   "execution_count": 34,
   "metadata": {},
   "outputs": [
    {
     "data": {
      "text/plain": [
       "GridSearchCV(cv=5,\n",
       "             estimator=Pipeline(steps=[('preprocess',\n",
       "                                        ColumnTransformer(remainder='passthrough',\n",
       "                                                          transformers=[('one '\n",
       "                                                                         'hot',\n",
       "                                                                         OneHotEncoder(drop='first'),\n",
       "                                                                         ['sex',\n",
       "                                                                          'smoker',\n",
       "                                                                          'region'])])),\n",
       "                                       ('scaler', RobustScaler()),\n",
       "                                       ('model',\n",
       "                                        DecisionTreeRegressor(criterion='mae',\n",
       "                                                              max_depth=5,\n",
       "                                                              random_state=0))]),\n",
       "             n_jobs=-1,\n",
       "             param_grid={'model__criterion': ['mae', 'mse'],\n",
       "                         'model__max_depth': [2, 3, 4, 5, 6, 7],\n",
       "                         'model__min_samples_leaf': [1, 5, 10, 15, 20, 50]},\n",
       "             scoring='neg_mean_absolute_error')"
      ]
     },
     "execution_count": 34,
     "metadata": {},
     "output_type": "execute_result"
    }
   ],
   "source": [
    "# fit grid_search pada train set\n",
    "grid_search.fit(X_train, y_train)"
   ]
  },
  {
   "cell_type": "code",
   "execution_count": 35,
   "metadata": {},
   "outputs": [
    {
     "name": "stdout",
     "output_type": "stream",
     "text": [
      "-1938.7420199112148\n",
      "{'model__criterion': 'mae', 'model__max_depth': 6, 'model__min_samples_leaf': 5}\n"
     ]
    }
   ],
   "source": [
    "# score terbaik hasil dari grid_search\n",
    "print(grid_search.best_score_)\n",
    "\n",
    "# hyperparameter pada score terbaik hasil dari grid_search\n",
    "print(grid_search.best_params_)"
   ]
  },
  {
   "cell_type": "code",
   "execution_count": 36,
   "metadata": {},
   "outputs": [
    {
     "data": {
      "text/html": [
       "<div>\n",
       "<style scoped>\n",
       "    .dataframe tbody tr th:only-of-type {\n",
       "        vertical-align: middle;\n",
       "    }\n",
       "\n",
       "    .dataframe tbody tr th {\n",
       "        vertical-align: top;\n",
       "    }\n",
       "\n",
       "    .dataframe thead th {\n",
       "        text-align: right;\n",
       "    }\n",
       "</style>\n",
       "<table border=\"1\" class=\"dataframe\">\n",
       "  <thead>\n",
       "    <tr style=\"text-align: right;\">\n",
       "      <th></th>\n",
       "      <th>mean_fit_time</th>\n",
       "      <th>std_fit_time</th>\n",
       "      <th>mean_score_time</th>\n",
       "      <th>std_score_time</th>\n",
       "      <th>param_model__criterion</th>\n",
       "      <th>param_model__max_depth</th>\n",
       "      <th>param_model__min_samples_leaf</th>\n",
       "      <th>params</th>\n",
       "      <th>split0_test_score</th>\n",
       "      <th>split1_test_score</th>\n",
       "      <th>split2_test_score</th>\n",
       "      <th>split3_test_score</th>\n",
       "      <th>split4_test_score</th>\n",
       "      <th>mean_test_score</th>\n",
       "      <th>std_test_score</th>\n",
       "      <th>rank_test_score</th>\n",
       "    </tr>\n",
       "  </thead>\n",
       "  <tbody>\n",
       "    <tr>\n",
       "      <th>0</th>\n",
       "      <td>0.256813</td>\n",
       "      <td>0.078174</td>\n",
       "      <td>0.041793</td>\n",
       "      <td>0.019548</td>\n",
       "      <td>mae</td>\n",
       "      <td>2</td>\n",
       "      <td>1</td>\n",
       "      <td>{'model__criterion': 'mae', 'model__max_depth'...</td>\n",
       "      <td>-3018.214146</td>\n",
       "      <td>-3016.596530</td>\n",
       "      <td>-3237.546635</td>\n",
       "      <td>-3080.346853</td>\n",
       "      <td>-3971.275395</td>\n",
       "      <td>-3264.795912</td>\n",
       "      <td>362.293455</td>\n",
       "      <td>61</td>\n",
       "    </tr>\n",
       "    <tr>\n",
       "      <th>1</th>\n",
       "      <td>0.205976</td>\n",
       "      <td>0.065744</td>\n",
       "      <td>0.034415</td>\n",
       "      <td>0.023136</td>\n",
       "      <td>mae</td>\n",
       "      <td>2</td>\n",
       "      <td>5</td>\n",
       "      <td>{'model__criterion': 'mae', 'model__max_depth'...</td>\n",
       "      <td>-3018.214146</td>\n",
       "      <td>-3016.596530</td>\n",
       "      <td>-3237.546635</td>\n",
       "      <td>-3080.346853</td>\n",
       "      <td>-3971.275395</td>\n",
       "      <td>-3264.795912</td>\n",
       "      <td>362.293455</td>\n",
       "      <td>61</td>\n",
       "    </tr>\n",
       "    <tr>\n",
       "      <th>2</th>\n",
       "      <td>0.162829</td>\n",
       "      <td>0.027911</td>\n",
       "      <td>0.038647</td>\n",
       "      <td>0.016522</td>\n",
       "      <td>mae</td>\n",
       "      <td>2</td>\n",
       "      <td>10</td>\n",
       "      <td>{'model__criterion': 'mae', 'model__max_depth'...</td>\n",
       "      <td>-3018.214146</td>\n",
       "      <td>-3016.596530</td>\n",
       "      <td>-3237.546635</td>\n",
       "      <td>-3080.346853</td>\n",
       "      <td>-3971.275395</td>\n",
       "      <td>-3264.795912</td>\n",
       "      <td>362.293455</td>\n",
       "      <td>61</td>\n",
       "    </tr>\n",
       "    <tr>\n",
       "      <th>3</th>\n",
       "      <td>0.229847</td>\n",
       "      <td>0.060605</td>\n",
       "      <td>0.075913</td>\n",
       "      <td>0.046671</td>\n",
       "      <td>mae</td>\n",
       "      <td>2</td>\n",
       "      <td>15</td>\n",
       "      <td>{'model__criterion': 'mae', 'model__max_depth'...</td>\n",
       "      <td>-3018.214146</td>\n",
       "      <td>-3016.596530</td>\n",
       "      <td>-3237.546635</td>\n",
       "      <td>-3080.346853</td>\n",
       "      <td>-3971.275395</td>\n",
       "      <td>-3264.795912</td>\n",
       "      <td>362.293455</td>\n",
       "      <td>61</td>\n",
       "    </tr>\n",
       "    <tr>\n",
       "      <th>4</th>\n",
       "      <td>0.268099</td>\n",
       "      <td>0.072325</td>\n",
       "      <td>0.069126</td>\n",
       "      <td>0.056212</td>\n",
       "      <td>mae</td>\n",
       "      <td>2</td>\n",
       "      <td>20</td>\n",
       "      <td>{'model__criterion': 'mae', 'model__max_depth'...</td>\n",
       "      <td>-3018.214146</td>\n",
       "      <td>-3016.596530</td>\n",
       "      <td>-3237.546635</td>\n",
       "      <td>-3080.346853</td>\n",
       "      <td>-3971.275395</td>\n",
       "      <td>-3264.795912</td>\n",
       "      <td>362.293455</td>\n",
       "      <td>61</td>\n",
       "    </tr>\n",
       "    <tr>\n",
       "      <th>...</th>\n",
       "      <td>...</td>\n",
       "      <td>...</td>\n",
       "      <td>...</td>\n",
       "      <td>...</td>\n",
       "      <td>...</td>\n",
       "      <td>...</td>\n",
       "      <td>...</td>\n",
       "      <td>...</td>\n",
       "      <td>...</td>\n",
       "      <td>...</td>\n",
       "      <td>...</td>\n",
       "      <td>...</td>\n",
       "      <td>...</td>\n",
       "      <td>...</td>\n",
       "      <td>...</td>\n",
       "      <td>...</td>\n",
       "    </tr>\n",
       "    <tr>\n",
       "      <th>67</th>\n",
       "      <td>0.135584</td>\n",
       "      <td>0.022035</td>\n",
       "      <td>0.051504</td>\n",
       "      <td>0.021512</td>\n",
       "      <td>mse</td>\n",
       "      <td>7</td>\n",
       "      <td>5</td>\n",
       "      <td>{'model__criterion': 'mse', 'model__max_depth'...</td>\n",
       "      <td>-2700.516699</td>\n",
       "      <td>-2503.205790</td>\n",
       "      <td>-3024.150800</td>\n",
       "      <td>-2938.894057</td>\n",
       "      <td>-3135.503424</td>\n",
       "      <td>-2860.454154</td>\n",
       "      <td>228.826526</td>\n",
       "      <td>46</td>\n",
       "    </tr>\n",
       "    <tr>\n",
       "      <th>68</th>\n",
       "      <td>0.105178</td>\n",
       "      <td>0.025992</td>\n",
       "      <td>0.036214</td>\n",
       "      <td>0.016960</td>\n",
       "      <td>mse</td>\n",
       "      <td>7</td>\n",
       "      <td>10</td>\n",
       "      <td>{'model__criterion': 'mse', 'model__max_depth'...</td>\n",
       "      <td>-2806.844741</td>\n",
       "      <td>-2510.348797</td>\n",
       "      <td>-2860.628980</td>\n",
       "      <td>-2903.029366</td>\n",
       "      <td>-3249.274635</td>\n",
       "      <td>-2866.025304</td>\n",
       "      <td>235.918031</td>\n",
       "      <td>47</td>\n",
       "    </tr>\n",
       "    <tr>\n",
       "      <th>69</th>\n",
       "      <td>0.072203</td>\n",
       "      <td>0.029621</td>\n",
       "      <td>0.056237</td>\n",
       "      <td>0.048257</td>\n",
       "      <td>mse</td>\n",
       "      <td>7</td>\n",
       "      <td>15</td>\n",
       "      <td>{'model__criterion': 'mse', 'model__max_depth'...</td>\n",
       "      <td>-2863.568116</td>\n",
       "      <td>-2403.908351</td>\n",
       "      <td>-2794.996947</td>\n",
       "      <td>-2942.761621</td>\n",
       "      <td>-3134.642955</td>\n",
       "      <td>-2827.975598</td>\n",
       "      <td>240.586013</td>\n",
       "      <td>44</td>\n",
       "    </tr>\n",
       "    <tr>\n",
       "      <th>70</th>\n",
       "      <td>0.084548</td>\n",
       "      <td>0.023243</td>\n",
       "      <td>0.044880</td>\n",
       "      <td>0.020456</td>\n",
       "      <td>mse</td>\n",
       "      <td>7</td>\n",
       "      <td>20</td>\n",
       "      <td>{'model__criterion': 'mse', 'model__max_depth'...</td>\n",
       "      <td>-2743.333355</td>\n",
       "      <td>-2448.336847</td>\n",
       "      <td>-2714.291711</td>\n",
       "      <td>-2956.625994</td>\n",
       "      <td>-3228.479302</td>\n",
       "      <td>-2818.213442</td>\n",
       "      <td>261.033163</td>\n",
       "      <td>42</td>\n",
       "    </tr>\n",
       "    <tr>\n",
       "      <th>71</th>\n",
       "      <td>0.067399</td>\n",
       "      <td>0.021153</td>\n",
       "      <td>0.025416</td>\n",
       "      <td>0.004131</td>\n",
       "      <td>mse</td>\n",
       "      <td>7</td>\n",
       "      <td>50</td>\n",
       "      <td>{'model__criterion': 'mse', 'model__max_depth'...</td>\n",
       "      <td>-3072.011698</td>\n",
       "      <td>-2728.309983</td>\n",
       "      <td>-3097.491084</td>\n",
       "      <td>-2881.947477</td>\n",
       "      <td>-3392.503709</td>\n",
       "      <td>-3034.452790</td>\n",
       "      <td>223.859888</td>\n",
       "      <td>56</td>\n",
       "    </tr>\n",
       "  </tbody>\n",
       "</table>\n",
       "<p>72 rows × 16 columns</p>\n",
       "</div>"
      ],
      "text/plain": [
       "    mean_fit_time  std_fit_time  mean_score_time  std_score_time  \\\n",
       "0        0.256813      0.078174         0.041793        0.019548   \n",
       "1        0.205976      0.065744         0.034415        0.023136   \n",
       "2        0.162829      0.027911         0.038647        0.016522   \n",
       "3        0.229847      0.060605         0.075913        0.046671   \n",
       "4        0.268099      0.072325         0.069126        0.056212   \n",
       "..            ...           ...              ...             ...   \n",
       "67       0.135584      0.022035         0.051504        0.021512   \n",
       "68       0.105178      0.025992         0.036214        0.016960   \n",
       "69       0.072203      0.029621         0.056237        0.048257   \n",
       "70       0.084548      0.023243         0.044880        0.020456   \n",
       "71       0.067399      0.021153         0.025416        0.004131   \n",
       "\n",
       "   param_model__criterion param_model__max_depth  \\\n",
       "0                     mae                      2   \n",
       "1                     mae                      2   \n",
       "2                     mae                      2   \n",
       "3                     mae                      2   \n",
       "4                     mae                      2   \n",
       "..                    ...                    ...   \n",
       "67                    mse                      7   \n",
       "68                    mse                      7   \n",
       "69                    mse                      7   \n",
       "70                    mse                      7   \n",
       "71                    mse                      7   \n",
       "\n",
       "   param_model__min_samples_leaf  \\\n",
       "0                              1   \n",
       "1                              5   \n",
       "2                             10   \n",
       "3                             15   \n",
       "4                             20   \n",
       "..                           ...   \n",
       "67                             5   \n",
       "68                            10   \n",
       "69                            15   \n",
       "70                            20   \n",
       "71                            50   \n",
       "\n",
       "                                               params  split0_test_score  \\\n",
       "0   {'model__criterion': 'mae', 'model__max_depth'...       -3018.214146   \n",
       "1   {'model__criterion': 'mae', 'model__max_depth'...       -3018.214146   \n",
       "2   {'model__criterion': 'mae', 'model__max_depth'...       -3018.214146   \n",
       "3   {'model__criterion': 'mae', 'model__max_depth'...       -3018.214146   \n",
       "4   {'model__criterion': 'mae', 'model__max_depth'...       -3018.214146   \n",
       "..                                                ...                ...   \n",
       "67  {'model__criterion': 'mse', 'model__max_depth'...       -2700.516699   \n",
       "68  {'model__criterion': 'mse', 'model__max_depth'...       -2806.844741   \n",
       "69  {'model__criterion': 'mse', 'model__max_depth'...       -2863.568116   \n",
       "70  {'model__criterion': 'mse', 'model__max_depth'...       -2743.333355   \n",
       "71  {'model__criterion': 'mse', 'model__max_depth'...       -3072.011698   \n",
       "\n",
       "    split1_test_score  split2_test_score  split3_test_score  \\\n",
       "0        -3016.596530       -3237.546635       -3080.346853   \n",
       "1        -3016.596530       -3237.546635       -3080.346853   \n",
       "2        -3016.596530       -3237.546635       -3080.346853   \n",
       "3        -3016.596530       -3237.546635       -3080.346853   \n",
       "4        -3016.596530       -3237.546635       -3080.346853   \n",
       "..                ...                ...                ...   \n",
       "67       -2503.205790       -3024.150800       -2938.894057   \n",
       "68       -2510.348797       -2860.628980       -2903.029366   \n",
       "69       -2403.908351       -2794.996947       -2942.761621   \n",
       "70       -2448.336847       -2714.291711       -2956.625994   \n",
       "71       -2728.309983       -3097.491084       -2881.947477   \n",
       "\n",
       "    split4_test_score  mean_test_score  std_test_score  rank_test_score  \n",
       "0        -3971.275395     -3264.795912      362.293455               61  \n",
       "1        -3971.275395     -3264.795912      362.293455               61  \n",
       "2        -3971.275395     -3264.795912      362.293455               61  \n",
       "3        -3971.275395     -3264.795912      362.293455               61  \n",
       "4        -3971.275395     -3264.795912      362.293455               61  \n",
       "..                ...              ...             ...              ...  \n",
       "67       -3135.503424     -2860.454154      228.826526               46  \n",
       "68       -3249.274635     -2866.025304      235.918031               47  \n",
       "69       -3134.642955     -2827.975598      240.586013               44  \n",
       "70       -3228.479302     -2818.213442      261.033163               42  \n",
       "71       -3392.503709     -3034.452790      223.859888               56  \n",
       "\n",
       "[72 rows x 16 columns]"
      ]
     },
     "execution_count": 36,
     "metadata": {},
     "output_type": "execute_result"
    }
   ],
   "source": [
    "# hasil dari 72 kombinasi hyperparameter\n",
    "pd.DataFrame(grid_search.cv_results_)"
   ]
  },
  {
   "cell_type": "code",
   "execution_count": 37,
   "metadata": {},
   "outputs": [
    {
     "data": {
      "text/html": [
       "<div>\n",
       "<style scoped>\n",
       "    .dataframe tbody tr th:only-of-type {\n",
       "        vertical-align: middle;\n",
       "    }\n",
       "\n",
       "    .dataframe tbody tr th {\n",
       "        vertical-align: top;\n",
       "    }\n",
       "\n",
       "    .dataframe thead th {\n",
       "        text-align: right;\n",
       "    }\n",
       "</style>\n",
       "<table border=\"1\" class=\"dataframe\">\n",
       "  <thead>\n",
       "    <tr style=\"text-align: right;\">\n",
       "      <th></th>\n",
       "      <th>mean_fit_time</th>\n",
       "      <th>std_fit_time</th>\n",
       "      <th>mean_score_time</th>\n",
       "      <th>std_score_time</th>\n",
       "      <th>param_model__criterion</th>\n",
       "      <th>param_model__max_depth</th>\n",
       "      <th>param_model__min_samples_leaf</th>\n",
       "      <th>params</th>\n",
       "      <th>split0_test_score</th>\n",
       "      <th>split1_test_score</th>\n",
       "      <th>split2_test_score</th>\n",
       "      <th>split3_test_score</th>\n",
       "      <th>split4_test_score</th>\n",
       "      <th>mean_test_score</th>\n",
       "      <th>std_test_score</th>\n",
       "      <th>rank_test_score</th>\n",
       "    </tr>\n",
       "  </thead>\n",
       "  <tbody>\n",
       "    <tr>\n",
       "      <th>25</th>\n",
       "      <td>0.207359</td>\n",
       "      <td>0.050211</td>\n",
       "      <td>0.045331</td>\n",
       "      <td>0.015850</td>\n",
       "      <td>mae</td>\n",
       "      <td>6</td>\n",
       "      <td>5</td>\n",
       "      <td>{'model__criterion': 'mae', 'model__max_depth'...</td>\n",
       "      <td>-1816.997610</td>\n",
       "      <td>-1674.227427</td>\n",
       "      <td>-1797.405596</td>\n",
       "      <td>-1862.364071</td>\n",
       "      <td>-2542.715395</td>\n",
       "      <td>-1938.742020</td>\n",
       "      <td>308.344964</td>\n",
       "      <td>1</td>\n",
       "    </tr>\n",
       "    <tr>\n",
       "      <th>31</th>\n",
       "      <td>0.203454</td>\n",
       "      <td>0.054317</td>\n",
       "      <td>0.035543</td>\n",
       "      <td>0.012963</td>\n",
       "      <td>mae</td>\n",
       "      <td>7</td>\n",
       "      <td>5</td>\n",
       "      <td>{'model__criterion': 'mae', 'model__max_depth'...</td>\n",
       "      <td>-1861.403725</td>\n",
       "      <td>-1605.538089</td>\n",
       "      <td>-1886.771645</td>\n",
       "      <td>-1878.334412</td>\n",
       "      <td>-2521.859691</td>\n",
       "      <td>-1950.781513</td>\n",
       "      <td>304.189922</td>\n",
       "      <td>2</td>\n",
       "    </tr>\n",
       "    <tr>\n",
       "      <th>32</th>\n",
       "      <td>0.245377</td>\n",
       "      <td>0.025125</td>\n",
       "      <td>0.024027</td>\n",
       "      <td>0.019852</td>\n",
       "      <td>mae</td>\n",
       "      <td>7</td>\n",
       "      <td>10</td>\n",
       "      <td>{'model__criterion': 'mae', 'model__max_depth'...</td>\n",
       "      <td>-1838.377226</td>\n",
       "      <td>-1693.533349</td>\n",
       "      <td>-1824.945265</td>\n",
       "      <td>-1890.404402</td>\n",
       "      <td>-2525.466208</td>\n",
       "      <td>-1954.545290</td>\n",
       "      <td>292.739873</td>\n",
       "      <td>3</td>\n",
       "    </tr>\n",
       "    <tr>\n",
       "      <th>26</th>\n",
       "      <td>0.189577</td>\n",
       "      <td>0.009740</td>\n",
       "      <td>0.036616</td>\n",
       "      <td>0.010838</td>\n",
       "      <td>mae</td>\n",
       "      <td>6</td>\n",
       "      <td>10</td>\n",
       "      <td>{'model__criterion': 'mae', 'model__max_depth'...</td>\n",
       "      <td>-1851.216760</td>\n",
       "      <td>-1733.188896</td>\n",
       "      <td>-1836.659679</td>\n",
       "      <td>-1928.281755</td>\n",
       "      <td>-2526.977915</td>\n",
       "      <td>-1975.265001</td>\n",
       "      <td>282.770156</td>\n",
       "      <td>4</td>\n",
       "    </tr>\n",
       "    <tr>\n",
       "      <th>33</th>\n",
       "      <td>0.244466</td>\n",
       "      <td>0.032088</td>\n",
       "      <td>0.023722</td>\n",
       "      <td>0.013857</td>\n",
       "      <td>mae</td>\n",
       "      <td>7</td>\n",
       "      <td>15</td>\n",
       "      <td>{'model__criterion': 'mae', 'model__max_depth'...</td>\n",
       "      <td>-1836.121452</td>\n",
       "      <td>-1752.811728</td>\n",
       "      <td>-1918.411131</td>\n",
       "      <td>-2002.681131</td>\n",
       "      <td>-2599.106583</td>\n",
       "      <td>-2021.826405</td>\n",
       "      <td>300.389377</td>\n",
       "      <td>5</td>\n",
       "    </tr>\n",
       "  </tbody>\n",
       "</table>\n",
       "</div>"
      ],
      "text/plain": [
       "    mean_fit_time  std_fit_time  mean_score_time  std_score_time  \\\n",
       "25       0.207359      0.050211         0.045331        0.015850   \n",
       "31       0.203454      0.054317         0.035543        0.012963   \n",
       "32       0.245377      0.025125         0.024027        0.019852   \n",
       "26       0.189577      0.009740         0.036616        0.010838   \n",
       "33       0.244466      0.032088         0.023722        0.013857   \n",
       "\n",
       "   param_model__criterion param_model__max_depth  \\\n",
       "25                    mae                      6   \n",
       "31                    mae                      7   \n",
       "32                    mae                      7   \n",
       "26                    mae                      6   \n",
       "33                    mae                      7   \n",
       "\n",
       "   param_model__min_samples_leaf  \\\n",
       "25                             5   \n",
       "31                             5   \n",
       "32                            10   \n",
       "26                            10   \n",
       "33                            15   \n",
       "\n",
       "                                               params  split0_test_score  \\\n",
       "25  {'model__criterion': 'mae', 'model__max_depth'...       -1816.997610   \n",
       "31  {'model__criterion': 'mae', 'model__max_depth'...       -1861.403725   \n",
       "32  {'model__criterion': 'mae', 'model__max_depth'...       -1838.377226   \n",
       "26  {'model__criterion': 'mae', 'model__max_depth'...       -1851.216760   \n",
       "33  {'model__criterion': 'mae', 'model__max_depth'...       -1836.121452   \n",
       "\n",
       "    split1_test_score  split2_test_score  split3_test_score  \\\n",
       "25       -1674.227427       -1797.405596       -1862.364071   \n",
       "31       -1605.538089       -1886.771645       -1878.334412   \n",
       "32       -1693.533349       -1824.945265       -1890.404402   \n",
       "26       -1733.188896       -1836.659679       -1928.281755   \n",
       "33       -1752.811728       -1918.411131       -2002.681131   \n",
       "\n",
       "    split4_test_score  mean_test_score  std_test_score  rank_test_score  \n",
       "25       -2542.715395     -1938.742020      308.344964                1  \n",
       "31       -2521.859691     -1950.781513      304.189922                2  \n",
       "32       -2525.466208     -1954.545290      292.739873                3  \n",
       "26       -2526.977915     -1975.265001      282.770156                4  \n",
       "33       -2599.106583     -2021.826405      300.389377                5  "
      ]
     },
     "execution_count": 37,
     "metadata": {},
     "output_type": "execute_result"
    }
   ],
   "source": [
    "# model dengan score tertinggi\n",
    "pd.DataFrame(grid_search.cv_results_).sort_values(by='mean_test_score', ascending=False).head(5)"
   ]
  },
  {
   "cell_type": "markdown",
   "metadata": {},
   "source": []
  },
  {
   "cell_type": "code",
   "execution_count": null,
   "metadata": {},
   "outputs": [],
   "source": []
  },
  {
   "cell_type": "markdown",
   "metadata": {},
   "source": [
    "## **Model Performance in Test Set with best hyperparameter**"
   ]
  },
  {
   "cell_type": "code",
   "execution_count": 38,
   "metadata": {},
   "outputs": [
    {
     "data": {
      "text/plain": [
       "Pipeline(steps=[('preprocess',\n",
       "                 ColumnTransformer(remainder='passthrough',\n",
       "                                   transformers=[('one hot',\n",
       "                                                  OneHotEncoder(drop='first'),\n",
       "                                                  ['sex', 'smoker',\n",
       "                                                   'region'])])),\n",
       "                ('scaler', RobustScaler()),\n",
       "                ('model',\n",
       "                 DecisionTreeRegressor(criterion='mae', max_depth=6,\n",
       "                                       min_samples_leaf=5, random_state=0))])"
      ]
     },
     "execution_count": 38,
     "metadata": {},
     "output_type": "execute_result"
    }
   ],
   "source": [
    "grid_search.best_estimator_"
   ]
  },
  {
   "cell_type": "code",
   "execution_count": 39,
   "metadata": {},
   "outputs": [
    {
     "data": {
      "text/plain": [
       "Pipeline(steps=[('preprocess',\n",
       "                 ColumnTransformer(remainder='passthrough',\n",
       "                                   transformers=[('one hot',\n",
       "                                                  OneHotEncoder(drop='first'),\n",
       "                                                  ['sex', 'smoker',\n",
       "                                                   'region'])])),\n",
       "                ('scaler', RobustScaler()),\n",
       "                ('model',\n",
       "                 DecisionTreeRegressor(criterion='mae', max_depth=6,\n",
       "                                       min_samples_leaf=5, random_state=0))])"
      ]
     },
     "execution_count": 39,
     "metadata": {},
     "output_type": "execute_result"
    }
   ],
   "source": [
    "# Model setelah hyperparameter tuning\n",
    "best_model = grid_search.best_estimator_\n",
    "\n",
    "best_model.fit(X_train, y_train)"
   ]
  },
  {
   "cell_type": "code",
   "execution_count": 40,
   "metadata": {},
   "outputs": [],
   "source": [
    "# predict\n",
    "y_pred_best = best_model.predict(X_test)"
   ]
  },
  {
   "cell_type": "code",
   "execution_count": 41,
   "metadata": {},
   "outputs": [
    {
     "name": "stdout",
     "output_type": "stream",
     "text": [
      "MSE: 16994102.233397037\n",
      "RMSE: 4122.390354320783\n",
      "MAE: 1678.1435176455223\n"
     ]
    }
   ],
   "source": [
    "# Score pada test set\n",
    "mse_best = mean_squared_error(y_test, y_pred_best)\n",
    "rmse_best = np.sqrt(mse_best)\n",
    "mae_best = mean_absolute_error(y_test, y_pred_best)\n",
    "\n",
    "print('MSE:', mse_best)\n",
    "print('RMSE:', rmse_best)\n",
    "print('MAE:', mae_best)"
   ]
  },
  {
   "cell_type": "code",
   "execution_count": null,
   "metadata": {},
   "outputs": [],
   "source": []
  },
  {
   "cell_type": "markdown",
   "metadata": {},
   "source": [
    "## **Comparison of before and after tuning**\n",
    "Perbandingan performa pada Test set"
   ]
  },
  {
   "cell_type": "code",
   "execution_count": 42,
   "metadata": {},
   "outputs": [
    {
     "data": {
      "text/html": [
       "<div>\n",
       "<style scoped>\n",
       "    .dataframe tbody tr th:only-of-type {\n",
       "        vertical-align: middle;\n",
       "    }\n",
       "\n",
       "    .dataframe tbody tr th {\n",
       "        vertical-align: top;\n",
       "    }\n",
       "\n",
       "    .dataframe thead th {\n",
       "        text-align: right;\n",
       "    }\n",
       "</style>\n",
       "<table border=\"1\" class=\"dataframe\">\n",
       "  <thead>\n",
       "    <tr style=\"text-align: right;\">\n",
       "      <th></th>\n",
       "      <th>Metrics-&gt;</th>\n",
       "      <th>RMSE</th>\n",
       "      <th>MAE</th>\n",
       "    </tr>\n",
       "  </thead>\n",
       "  <tbody>\n",
       "    <tr>\n",
       "      <th>0</th>\n",
       "      <td>Before tuning</td>\n",
       "      <td>4924.329317</td>\n",
       "      <td>1985.469835</td>\n",
       "    </tr>\n",
       "    <tr>\n",
       "      <th>1</th>\n",
       "      <td>After tuning</td>\n",
       "      <td>4122.390354</td>\n",
       "      <td>1678.143518</td>\n",
       "    </tr>\n",
       "  </tbody>\n",
       "</table>\n",
       "</div>"
      ],
      "text/plain": [
       "       Metrics->         RMSE          MAE\n",
       "0  Before tuning  4924.329317  1985.469835\n",
       "1   After tuning  4122.390354  1678.143518"
      ]
     },
     "execution_count": 42,
     "metadata": {},
     "output_type": "execute_result"
    }
   ],
   "source": [
    "pd.DataFrame({\n",
    "    'Metrics->':['Before tuning', 'After tuning'],\n",
    "    'RMSE':[rmse,rmse_best], \n",
    "    'MAE':[mae, mae_best]\n",
    "})"
   ]
  },
  {
   "cell_type": "markdown",
   "metadata": {},
   "source": [
    "## **Interpretasi**\n",
    "\n",
    "- Model yang terpilih untuk melakukan modeling pada dataset ini adalah **Decision Tree**.\n",
    "- Hyperparameter tuning **berhasil meng-improve** performa model Decision Tree dari MAE 1985 ke 1678. \n",
    "- Hyperparameter terbaik berdasarkan GridSearch adalah **{'model__criterion': 'mae', 'model__max_depth': 6, 'model__min_samples_leaf': 5}**\n",
    "- Jika masih ingin mencoba meng-improve model Decision Tree ini, kita bisa coba melakukan tuning pada scaler, atau bisa juga mencoba menganti angka pada hyperparam_space."
   ]
  }
 ],
 "metadata": {
  "interpreter": {
   "hash": "37eb40c3388cfde35488e2d005b0d69ca91ddeff8a429754d4da636d3f888e5e"
  },
  "kernelspec": {
   "display_name": "Python 3.7.6 64-bit ('base': conda)",
   "name": "python3"
  },
  "language_info": {
   "codemirror_mode": {
    "name": "ipython",
    "version": 3
   },
   "file_extension": ".py",
   "mimetype": "text/x-python",
   "name": "python",
   "nbconvert_exporter": "python",
   "pygments_lexer": "ipython3",
   "version": "3.7.11"
  },
  "orig_nbformat": 4
 },
 "nbformat": 4,
 "nbformat_minor": 2
}
