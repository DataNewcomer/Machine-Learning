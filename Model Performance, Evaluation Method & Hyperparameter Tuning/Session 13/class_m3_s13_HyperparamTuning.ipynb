{
 "cells": [
  {
   "cell_type": "markdown",
   "metadata": {},
   "source": [
    "# HYPERPARAMETER TUNING"
   ]
  },
  {
   "cell_type": "markdown",
   "metadata": {},
   "source": [
    "## Classification"
   ]
  },
  {
   "cell_type": "code",
   "execution_count": 1,
   "metadata": {},
   "outputs": [],
   "source": [
    "import numpy as np \n",
    "import pandas as pd \n",
    "\n",
    "from sklearn.model_selection import train_test_split\n",
    "\n",
    "from sklearn.linear_model import LogisticRegression\n",
    "from sklearn.neighbors import KNeighborsClassifier \n",
    "from sklearn.tree import DecisionTreeClassifier\n",
    "\n",
    "from sklearn.metrics import accuracy_score, recall_score, precision_score, f1_score, confusion_matrix\n",
    "from sklearn.metrics import precision_recall_curve, roc_auc_score, classification_report, plot_roc_curve, plot_precision_recall_curve"
   ]
  },
  {
   "cell_type": "markdown",
   "metadata": {},
   "source": [
    "### Load Dataset"
   ]
  },
  {
   "cell_type": "code",
   "execution_count": 2,
   "metadata": {},
   "outputs": [
    {
     "data": {
      "text/html": [
       "<div>\n",
       "<style scoped>\n",
       "    .dataframe tbody tr th:only-of-type {\n",
       "        vertical-align: middle;\n",
       "    }\n",
       "\n",
       "    .dataframe tbody tr th {\n",
       "        vertical-align: top;\n",
       "    }\n",
       "\n",
       "    .dataframe thead th {\n",
       "        text-align: right;\n",
       "    }\n",
       "</style>\n",
       "<table border=\"1\" class=\"dataframe\">\n",
       "  <thead>\n",
       "    <tr style=\"text-align: right;\">\n",
       "      <th></th>\n",
       "      <th>age</th>\n",
       "      <th>ed</th>\n",
       "      <th>employ</th>\n",
       "      <th>address</th>\n",
       "      <th>income</th>\n",
       "      <th>debtinc</th>\n",
       "      <th>creddebt</th>\n",
       "      <th>othdebt</th>\n",
       "      <th>default</th>\n",
       "    </tr>\n",
       "  </thead>\n",
       "  <tbody>\n",
       "    <tr>\n",
       "      <th>0</th>\n",
       "      <td>41</td>\n",
       "      <td>3</td>\n",
       "      <td>17</td>\n",
       "      <td>12</td>\n",
       "      <td>176</td>\n",
       "      <td>9.3</td>\n",
       "      <td>11.359392</td>\n",
       "      <td>5.008608</td>\n",
       "      <td>1</td>\n",
       "    </tr>\n",
       "    <tr>\n",
       "      <th>1</th>\n",
       "      <td>27</td>\n",
       "      <td>1</td>\n",
       "      <td>10</td>\n",
       "      <td>6</td>\n",
       "      <td>31</td>\n",
       "      <td>17.3</td>\n",
       "      <td>1.362202</td>\n",
       "      <td>4.000798</td>\n",
       "      <td>0</td>\n",
       "    </tr>\n",
       "    <tr>\n",
       "      <th>2</th>\n",
       "      <td>40</td>\n",
       "      <td>1</td>\n",
       "      <td>15</td>\n",
       "      <td>14</td>\n",
       "      <td>55</td>\n",
       "      <td>5.5</td>\n",
       "      <td>0.856075</td>\n",
       "      <td>2.168925</td>\n",
       "      <td>0</td>\n",
       "    </tr>\n",
       "    <tr>\n",
       "      <th>3</th>\n",
       "      <td>41</td>\n",
       "      <td>1</td>\n",
       "      <td>15</td>\n",
       "      <td>14</td>\n",
       "      <td>120</td>\n",
       "      <td>2.9</td>\n",
       "      <td>2.658720</td>\n",
       "      <td>0.821280</td>\n",
       "      <td>0</td>\n",
       "    </tr>\n",
       "    <tr>\n",
       "      <th>4</th>\n",
       "      <td>24</td>\n",
       "      <td>2</td>\n",
       "      <td>2</td>\n",
       "      <td>0</td>\n",
       "      <td>28</td>\n",
       "      <td>17.3</td>\n",
       "      <td>1.787436</td>\n",
       "      <td>3.056564</td>\n",
       "      <td>1</td>\n",
       "    </tr>\n",
       "    <tr>\n",
       "      <th>...</th>\n",
       "      <td>...</td>\n",
       "      <td>...</td>\n",
       "      <td>...</td>\n",
       "      <td>...</td>\n",
       "      <td>...</td>\n",
       "      <td>...</td>\n",
       "      <td>...</td>\n",
       "      <td>...</td>\n",
       "      <td>...</td>\n",
       "    </tr>\n",
       "    <tr>\n",
       "      <th>695</th>\n",
       "      <td>36</td>\n",
       "      <td>2</td>\n",
       "      <td>6</td>\n",
       "      <td>15</td>\n",
       "      <td>27</td>\n",
       "      <td>4.6</td>\n",
       "      <td>0.262062</td>\n",
       "      <td>0.979938</td>\n",
       "      <td>1</td>\n",
       "    </tr>\n",
       "    <tr>\n",
       "      <th>696</th>\n",
       "      <td>29</td>\n",
       "      <td>2</td>\n",
       "      <td>6</td>\n",
       "      <td>4</td>\n",
       "      <td>21</td>\n",
       "      <td>11.5</td>\n",
       "      <td>0.369495</td>\n",
       "      <td>2.045505</td>\n",
       "      <td>0</td>\n",
       "    </tr>\n",
       "    <tr>\n",
       "      <th>697</th>\n",
       "      <td>33</td>\n",
       "      <td>1</td>\n",
       "      <td>15</td>\n",
       "      <td>3</td>\n",
       "      <td>32</td>\n",
       "      <td>7.6</td>\n",
       "      <td>0.491264</td>\n",
       "      <td>1.940736</td>\n",
       "      <td>0</td>\n",
       "    </tr>\n",
       "    <tr>\n",
       "      <th>698</th>\n",
       "      <td>45</td>\n",
       "      <td>1</td>\n",
       "      <td>19</td>\n",
       "      <td>22</td>\n",
       "      <td>77</td>\n",
       "      <td>8.4</td>\n",
       "      <td>2.302608</td>\n",
       "      <td>4.165392</td>\n",
       "      <td>0</td>\n",
       "    </tr>\n",
       "    <tr>\n",
       "      <th>699</th>\n",
       "      <td>37</td>\n",
       "      <td>1</td>\n",
       "      <td>12</td>\n",
       "      <td>14</td>\n",
       "      <td>44</td>\n",
       "      <td>14.7</td>\n",
       "      <td>2.994684</td>\n",
       "      <td>3.473316</td>\n",
       "      <td>0</td>\n",
       "    </tr>\n",
       "  </tbody>\n",
       "</table>\n",
       "<p>700 rows × 9 columns</p>\n",
       "</div>"
      ],
      "text/plain": [
       "     age  ed  employ  address  income  debtinc   creddebt   othdebt  default\n",
       "0     41   3      17       12     176      9.3  11.359392  5.008608        1\n",
       "1     27   1      10        6      31     17.3   1.362202  4.000798        0\n",
       "2     40   1      15       14      55      5.5   0.856075  2.168925        0\n",
       "3     41   1      15       14     120      2.9   2.658720  0.821280        0\n",
       "4     24   2       2        0      28     17.3   1.787436  3.056564        1\n",
       "..   ...  ..     ...      ...     ...      ...        ...       ...      ...\n",
       "695   36   2       6       15      27      4.6   0.262062  0.979938        1\n",
       "696   29   2       6        4      21     11.5   0.369495  2.045505        0\n",
       "697   33   1      15        3      32      7.6   0.491264  1.940736        0\n",
       "698   45   1      19       22      77      8.4   2.302608  4.165392        0\n",
       "699   37   1      12       14      44     14.7   2.994684  3.473316        0\n",
       "\n",
       "[700 rows x 9 columns]"
      ]
     },
     "execution_count": 2,
     "metadata": {},
     "output_type": "execute_result"
    }
   ],
   "source": [
    "df_bank = pd.read_csv('bankloan.csv')\n",
    "df_bank"
   ]
  },
  {
   "cell_type": "markdown",
   "metadata": {},
   "source": [
    "### Data Splitting"
   ]
  },
  {
   "cell_type": "code",
   "execution_count": 3,
   "metadata": {},
   "outputs": [],
   "source": [
    "X = df_bank[['employ', 'debtinc', 'creddebt', 'othdebt']]\n",
    "y = df_bank['default']\n",
    "\n",
    "X_train, X_test, y_train, y_test = train_test_split(X, y, test_size=0.2, stratify=y, random_state=10)"
   ]
  },
  {
   "cell_type": "code",
   "execution_count": 4,
   "metadata": {},
   "outputs": [
    {
     "data": {
      "text/plain": [
       "(140, 4)"
      ]
     },
     "execution_count": 4,
     "metadata": {},
     "output_type": "execute_result"
    }
   ],
   "source": [
    "X_test.shape"
   ]
  },
  {
   "cell_type": "markdown",
   "metadata": {},
   "source": [
    "### Model (without cross validation)"
   ]
  },
  {
   "cell_type": "code",
   "execution_count": 5,
   "metadata": {},
   "outputs": [
    {
     "data": {
      "text/plain": [
       "0.8"
      ]
     },
     "execution_count": 5,
     "metadata": {},
     "output_type": "execute_result"
    }
   ],
   "source": [
    "# define model\n",
    "logreg = LogisticRegression()\n",
    "\n",
    "# fitting\n",
    "logreg.fit(X_train, y_train)\n",
    "\n",
    "# predict\n",
    "y_pred = logreg.predict(X_test)\n",
    "\n",
    "# metric (accuracy)\n",
    "accuracy_score(y_test, y_pred)"
   ]
  },
  {
   "cell_type": "code",
   "execution_count": 22,
   "metadata": {},
   "outputs": [
    {
     "data": {
      "text/plain": [
       "0.7928571428571428"
      ]
     },
     "execution_count": 22,
     "metadata": {},
     "output_type": "execute_result"
    }
   ],
   "source": [
    "# define model\n",
    "knn = KNeighborsClassifier()\n",
    "\n",
    "# fitting\n",
    "knn.fit(X_train, y_train)\n",
    "\n",
    "# predict\n",
    "y_pred = knn.predict(X_test)\n",
    "\n",
    "# metric (accuracy)\n",
    "accuracy_score(y_test, y_pred)"
   ]
  },
  {
   "cell_type": "code",
   "execution_count": null,
   "metadata": {},
   "outputs": [],
   "source": []
  },
  {
   "cell_type": "markdown",
   "metadata": {},
   "source": [
    "### Cross Validation\n",
    "\n",
    "Untuk memilih algoritma terbaik"
   ]
  },
  {
   "cell_type": "code",
   "execution_count": 6,
   "metadata": {},
   "outputs": [],
   "source": [
    "from sklearn.model_selection import cross_val_score, StratifiedKFold"
   ]
  },
  {
   "cell_type": "code",
   "execution_count": 7,
   "metadata": {},
   "outputs": [],
   "source": [
    "# define benchmark model\n",
    "\n",
    "logreg = LogisticRegression()\n",
    "knn = KNeighborsClassifier()\n",
    "tree = DecisionTreeClassifier(max_depth=3, random_state=10)"
   ]
  },
  {
   "cell_type": "markdown",
   "metadata": {},
   "source": [
    "#### Accuracy"
   ]
  },
  {
   "cell_type": "code",
   "execution_count": 8,
   "metadata": {},
   "outputs": [
    {
     "name": "stdout",
     "output_type": "stream",
     "text": [
      "[0.76785714 0.80357143 0.875      0.8125     0.77678571] logreg\n",
      "[0.69642857 0.77678571 0.78571429 0.79464286 0.76785714] knn\n",
      "[0.75       0.77678571 0.79464286 0.76785714 0.70535714] tree\n"
     ]
    }
   ],
   "source": [
    "# define fold\n",
    "skfold = StratifiedKFold(n_splits=5)\n",
    "\n",
    "# melakukan cross validation (dilakukan pada train set)\n",
    "logreg_cv = cross_val_score(logreg, X_train, y_train, cv=skfold, scoring='accuracy')\n",
    "knn_cv = cross_val_score(knn, X_train, y_train, cv=skfold, scoring='accuracy')\n",
    "tree_cv = cross_val_score(tree, X_train, y_train, cv=skfold, scoring='accuracy')\n",
    "\n",
    "print(logreg_cv, 'logreg')\n",
    "print(knn_cv, 'knn')\n",
    "print(tree_cv, 'tree')"
   ]
  },
  {
   "cell_type": "code",
   "execution_count": 9,
   "metadata": {},
   "outputs": [],
   "source": [
    "# from sklearn.metrics import SCORERS\n",
    "# SCORERS.keys()"
   ]
  },
  {
   "cell_type": "code",
   "execution_count": 10,
   "metadata": {},
   "outputs": [
    {
     "name": "stdout",
     "output_type": "stream",
     "text": [
      "0.8071428571428572 logreg\n",
      "0.7642857142857142 knn\n",
      "0.7589285714285714 tree\n"
     ]
    }
   ],
   "source": [
    "# Rata-rata accuracy (pilih yang paling tinggi)\n",
    "\n",
    "print(logreg_cv.mean(), 'logreg')\n",
    "print(knn_cv.mean(), 'knn')\n",
    "print(tree_cv.mean(), 'tree')"
   ]
  },
  {
   "cell_type": "code",
   "execution_count": 11,
   "metadata": {},
   "outputs": [
    {
     "name": "stdout",
     "output_type": "stream",
     "text": [
      "0.037711985860612265 logreg\n",
      "0.03508371911497947 knn\n",
      "0.030409618510582836 tree\n"
     ]
    }
   ],
   "source": [
    "# Standard Deviation(cari yang std paling kecil, artinya model paling stabil)\n",
    "\n",
    "print(logreg_cv.std(), 'logreg')\n",
    "print(knn_cv.std(), 'knn')\n",
    "print(tree_cv.std(), 'tree')"
   ]
  },
  {
   "cell_type": "markdown",
   "metadata": {},
   "source": [
    "**Kesimpulan**\n",
    "\n",
    "- Kita mencoba 3 benchmark model dengan algoritma berbeda\n",
    "- Kita melakukan cross validation dengan 5 fold\n",
    "- Evaluation metric yang digunakan adalah accuracy\n",
    "- Rata-rata cross val score paling tinggi adalah model dengan menggunakan Logistic Regression\n",
    "- Standard dev cross val score paling rendah adalah model dengan menggunakan Decision Tree\n",
    "\n",
    "- Benchmark Model terbaik adalah **Logistic Regression**, karena rata-rata accuracy-nya paling tinggi, dan std-nya walaupun lebih besar, tetapi tidak berbeda jauh dari Decision Tree \n"
   ]
  },
  {
   "cell_type": "markdown",
   "metadata": {},
   "source": [
    "#### Function for cross validation"
   ]
  },
  {
   "cell_type": "code",
   "execution_count": 12,
   "metadata": {},
   "outputs": [],
   "source": [
    "# create function\n",
    "\n",
    "def model_evaluation_cv(model, metric):\n",
    "\n",
    "    skfold = StratifiedKFold(n_splits=5)\n",
    "    model_cv = cross_val_score(model, X_train, y_train, cv=skfold, scoring=metric)\n",
    "    \n",
    "    print(model)\n",
    "    print('Hasil Corss Val: ', model_cv)\n",
    "    print('Rata-rata: ', model_cv.mean())\n",
    "    print('St dev: ', model_cv.std())\n",
    "    print()"
   ]
  },
  {
   "cell_type": "code",
   "execution_count": 13,
   "metadata": {},
   "outputs": [
    {
     "name": "stdout",
     "output_type": "stream",
     "text": [
      "LogisticRegression()\n",
      "Hasil Corss Val:  [0.76785714 0.80357143 0.875      0.8125     0.77678571]\n",
      "Rata-rata:  0.8071428571428572\n",
      "St dev:  0.037711985860612265\n",
      "\n",
      "KNeighborsClassifier()\n",
      "Hasil Corss Val:  [0.69642857 0.77678571 0.78571429 0.79464286 0.76785714]\n",
      "Rata-rata:  0.7642857142857142\n",
      "St dev:  0.03508371911497947\n",
      "\n",
      "DecisionTreeClassifier(max_depth=3, random_state=10)\n",
      "Hasil Corss Val:  [0.75       0.77678571 0.79464286 0.76785714 0.70535714]\n",
      "Rata-rata:  0.7589285714285714\n",
      "St dev:  0.030409618510582836\n",
      "\n"
     ]
    }
   ],
   "source": [
    "# accuracy\n",
    "\n",
    "model_evaluation_cv(logreg, 'accuracy')\n",
    "model_evaluation_cv(knn, 'accuracy')\n",
    "model_evaluation_cv(tree, 'accuracy')\n",
    "\n",
    "# best model: logreg"
   ]
  },
  {
   "cell_type": "code",
   "execution_count": 14,
   "metadata": {},
   "outputs": [
    {
     "name": "stdout",
     "output_type": "stream",
     "text": [
      "LogisticRegression()\n",
      "Hasil Corss Val:  [0.45833333 0.54166667 0.75862069 0.55319149 0.44444444]\n",
      "Rata-rata:  0.5512513246922637\n",
      "St dev:  0.1123736145364938\n",
      "\n",
      "KNeighborsClassifier()\n",
      "Hasil Corss Val:  [0.39285714 0.48979592 0.53846154 0.54901961 0.48      ]\n",
      "Rata-rata:  0.49002684150583314\n",
      "St dev:  0.055441153597079934\n",
      "\n",
      "DecisionTreeClassifier(max_depth=3, random_state=10)\n",
      "Hasil Corss Val:  [0.3        0.44444444 0.53061224 0.53571429 0.32653061]\n",
      "Rata-rata:  0.42746031746031743\n",
      "St dev:  0.09907637485112282\n",
      "\n"
     ]
    }
   ],
   "source": [
    "# f1 score\n",
    "\n",
    "model_evaluation_cv(logreg, 'f1')\n",
    "model_evaluation_cv(knn, 'f1')\n",
    "model_evaluation_cv(tree, 'f1')\n",
    "\n",
    "# best model: logreg"
   ]
  },
  {
   "cell_type": "code",
   "execution_count": 15,
   "metadata": {},
   "outputs": [
    {
     "data": {
      "text/plain": [
       "0    73.857143\n",
       "1    26.142857\n",
       "Name: default, dtype: float64"
      ]
     },
     "execution_count": 15,
     "metadata": {},
     "output_type": "execute_result"
    }
   ],
   "source": [
    "# proporsi target\n",
    "\n",
    "df_bank['default'].value_counts() /700 *100\n",
    "\n",
    "# data cukup imbalance, jadi kita lebih baik menggunakan f1 score sebagai metricnya"
   ]
  },
  {
   "cell_type": "markdown",
   "metadata": {},
   "source": [
    "### Predict Test Set\n",
    "\n",
    "- Benchmark model terbaik sudah dipilih: Logistic Regression\n",
    "- Sekarang kita prediksi test set menggunakan model terpilih"
   ]
  },
  {
   "cell_type": "code",
   "execution_count": 16,
   "metadata": {},
   "outputs": [
    {
     "data": {
      "text/plain": [
       "0.588235294117647"
      ]
     },
     "execution_count": 16,
     "metadata": {},
     "output_type": "execute_result"
    }
   ],
   "source": [
    "logreg = LogisticRegression()\n",
    "logreg.fit(X_train, y_train)\n",
    "\n",
    "y_pred = logreg.predict(X_test)\n",
    "f1_score(y_test, y_pred)"
   ]
  },
  {
   "cell_type": "code",
   "execution_count": 17,
   "metadata": {},
   "outputs": [
    {
     "name": "stdout",
     "output_type": "stream",
     "text": [
      "              precision    recall  f1-score   support\n",
      "\n",
      "           0       0.84      0.89      0.87       103\n",
      "           1       0.65      0.54      0.59        37\n",
      "\n",
      "    accuracy                           0.80       140\n",
      "   macro avg       0.74      0.72      0.73       140\n",
      "weighted avg       0.79      0.80      0.79       140\n",
      "\n"
     ]
    }
   ],
   "source": [
    "# menampilkan beberpa metric sekaligus\n",
    "\n",
    "print(classification_report(y_test, y_pred))"
   ]
  },
  {
   "cell_type": "code",
   "execution_count": 18,
   "metadata": {},
   "outputs": [
    {
     "data": {
      "text/plain": [
       "array([[92, 11],\n",
       "       [17, 20]], dtype=int64)"
      ]
     },
     "execution_count": 18,
     "metadata": {},
     "output_type": "execute_result"
    }
   ],
   "source": [
    "confusion_matrix(y_test, y_pred)"
   ]
  },
  {
   "cell_type": "code",
   "execution_count": 19,
   "metadata": {},
   "outputs": [
    {
     "data": {
      "text/plain": [
       "Text(51.0, 0.5, 'Actual')"
      ]
     },
     "execution_count": 19,
     "metadata": {},
     "output_type": "execute_result"
    },
    {
     "data": {
      "image/png": "[encoded data removed]",
      "text/plain": [
       "<Figure size 576x432 with 2 Axes>"
      ]
     },
     "metadata": {
      "needs_background": "light"
     },
     "output_type": "display_data"
    }
   ],
   "source": [
    "import matplotlib.pyplot as plt\n",
    "import seaborn as sns\n",
    "\n",
    "plt.figure(figsize=(8,6))\n",
    "sns.heatmap(confusion_matrix(y_test, y_pred), annot=True)\n",
    "\n",
    "plt.xlabel('Predicted')\n",
    "plt.ylabel('Actual')\n"
   ]
  },
  {
   "cell_type": "code",
   "execution_count": 20,
   "metadata": {},
   "outputs": [
    {
     "name": "stderr",
     "output_type": "stream",
     "text": [
      "C:\\Users\\LENOVO\\anaconda3\\lib\\site-packages\\sklearn\\utils\\deprecation.py:87: FutureWarning: Function plot_roc_curve is deprecated; Function `plot_roc_curve` is deprecated in 1.0 and will be removed in 1.2. Use one of the class methods: RocCurveDisplay.from_predictions or RocCurveDisplay.from_estimator.\n",
      "  warnings.warn(msg, category=FutureWarning)\n"
     ]
    },
    {
     "data": {
      "text/plain": [
       "<sklearn.metrics._plot.roc_curve.RocCurveDisplay at 0x19531063188>"
      ]
     },
     "execution_count": 20,
     "metadata": {},
     "output_type": "execute_result"
    },
    {
     "data": {
      "image/png": "[encoded data removed]",
      "text/plain": [
       "<Figure size 432x288 with 1 Axes>"
      ]
     },
     "metadata": {
      "needs_background": "light"
     },
     "output_type": "display_data"
    }
   ],
   "source": [
    "plot_roc_curve(logreg, X_test, y_test)"
   ]
  },
  {
   "cell_type": "code",
   "execution_count": 21,
   "metadata": {},
   "outputs": [
    {
     "name": "stderr",
     "output_type": "stream",
     "text": [
      "C:\\Users\\LENOVO\\anaconda3\\lib\\site-packages\\sklearn\\utils\\deprecation.py:87: FutureWarning: Function plot_precision_recall_curve is deprecated; Function `plot_precision_recall_curve` is deprecated in 1.0 and will be removed in 1.2. Use one of the class methods: PrecisionRecallDisplay.from_predictions or PrecisionRecallDisplay.from_estimator.\n",
      "  warnings.warn(msg, category=FutureWarning)\n"
     ]
    },
    {
     "data": {
      "text/plain": [
       "<sklearn.metrics._plot.precision_recall_curve.PrecisionRecallDisplay at 0x19530e35208>"
      ]
     },
     "execution_count": 21,
     "metadata": {},
     "output_type": "execute_result"
    },
    {
     "data": {
      "image/png": "[encoded data removed]",
      "text/plain": [
       "<Figure size 432x288 with 1 Axes>"
      ]
     },
     "metadata": {
      "needs_background": "light"
     },
     "output_type": "display_data"
    }
   ],
   "source": [
    "# Precision Recall Curve\n",
    "\n",
    "plot_precision_recall_curve(logreg, X_test, y_test)"
   ]
  },
  {
   "cell_type": "code",
   "execution_count": null,
   "metadata": {},
   "outputs": [],
   "source": []
  },
  {
   "cell_type": "markdown",
   "metadata": {},
   "source": [
    "### Hyperparameter Tuning"
   ]
  },
  {
   "cell_type": "code",
   "execution_count": 23,
   "metadata": {},
   "outputs": [],
   "source": [
    "from sklearn.model_selection import GridSearchCV, RandomizedSearchCV"
   ]
  },
  {
   "cell_type": "code",
   "execution_count": 54,
   "metadata": {},
   "outputs": [
    {
     "data": {
      "text/plain": [
       "GridSearchCV(cv=StratifiedKFold(n_splits=5, random_state=None, shuffle=False),\n",
       "             estimator=LogisticRegression(), n_jobs=-1,\n",
       "             param_grid={'C': [1000, 500, 100, 50, 10, 5, 1, 0.5, 0.1, 0.05,\n",
       "                               0.01, 0.005, 0.001, 0.0005, 0.0001],\n",
       "                         'max_iter': [100, 200, 300, 400, 500],\n",
       "                         'solver': ['newton-cg', 'lbfgs', 'liblinear']},\n",
       "             scoring='f1')"
      ]
     },
     "execution_count": 54,
     "metadata": {},
     "output_type": "execute_result"
    }
   ],
   "source": [
    "# hyperparameter \n",
    "hyperparam_space = {\n",
    "    'C':[1000, 500, 100, 50, 10, 5, 1, 0.5, 0.1, 0.05, 0.01, 0.005, 0.001, 0.0005, 0.0001],\n",
    "    'max_iter':[100, 200, 300, 400, 500],\n",
    "    'solver':['newton-cg', 'lbfgs', 'liblinear']\n",
    "}\n",
    "\n",
    "\n",
    "# menentukan jumlah fold untuk cross validation\n",
    "skfold = StratifiedKFold(n_splits=5)\n",
    "\n",
    "# model/estimator\n",
    "model = LogisticRegression()\n",
    "\n",
    "# Grid Search\n",
    "grid_search = GridSearchCV(\n",
    "    estimator=model,\n",
    "    param_grid=hyperparam_space,\n",
    "    cv=skfold,\n",
    "    scoring='f1',\n",
    "    n_jobs=-1\n",
    ")\n",
    "\n",
    "# fitting gridsearch\n",
    "grid_search.fit(X_train, y_train)"
   ]
  },
  {
   "cell_type": "code",
   "execution_count": 55,
   "metadata": {},
   "outputs": [
    {
     "data": {
      "text/plain": [
       "0.5516239220815125"
      ]
     },
     "execution_count": 55,
     "metadata": {},
     "output_type": "execute_result"
    }
   ],
   "source": [
    "# f1 score terbaik \n",
    "grid_search.best_score_"
   ]
  },
  {
   "cell_type": "code",
   "execution_count": 56,
   "metadata": {},
   "outputs": [
    {
     "data": {
      "text/plain": [
       "{'C': 10, 'max_iter': 100, 'solver': 'liblinear'}"
      ]
     },
     "execution_count": 56,
     "metadata": {},
     "output_type": "execute_result"
    }
   ],
   "source": [
    "# hyperparameter terbaik\n",
    "grid_search.best_params_"
   ]
  },
  {
   "cell_type": "code",
   "execution_count": 57,
   "metadata": {},
   "outputs": [],
   "source": [
    "# lihat hasil gridsearch secara keseluruhan\n",
    "\n",
    "cv_result = pd.DataFrame(grid_search.cv_results_)"
   ]
  },
  {
   "cell_type": "code",
   "execution_count": 58,
   "metadata": {},
   "outputs": [
    {
     "data": {
      "text/html": [
       "<div>\n",
       "<style scoped>\n",
       "    .dataframe tbody tr th:only-of-type {\n",
       "        vertical-align: middle;\n",
       "    }\n",
       "\n",
       "    .dataframe tbody tr th {\n",
       "        vertical-align: top;\n",
       "    }\n",
       "\n",
       "    .dataframe thead th {\n",
       "        text-align: right;\n",
       "    }\n",
       "</style>\n",
       "<table border=\"1\" class=\"dataframe\">\n",
       "  <thead>\n",
       "    <tr style=\"text-align: right;\">\n",
       "      <th></th>\n",
       "      <th>mean_fit_time</th>\n",
       "      <th>std_fit_time</th>\n",
       "      <th>mean_score_time</th>\n",
       "      <th>std_score_time</th>\n",
       "      <th>param_C</th>\n",
       "      <th>param_max_iter</th>\n",
       "      <th>param_solver</th>\n",
       "      <th>params</th>\n",
       "      <th>split0_test_score</th>\n",
       "      <th>split1_test_score</th>\n",
       "      <th>split2_test_score</th>\n",
       "      <th>split3_test_score</th>\n",
       "      <th>split4_test_score</th>\n",
       "      <th>mean_test_score</th>\n",
       "      <th>std_test_score</th>\n",
       "      <th>rank_test_score</th>\n",
       "    </tr>\n",
       "  </thead>\n",
       "  <tbody>\n",
       "    <tr>\n",
       "      <th>62</th>\n",
       "      <td>0.051659</td>\n",
       "      <td>0.032388</td>\n",
       "      <td>0.027747</td>\n",
       "      <td>0.014536</td>\n",
       "      <td>10</td>\n",
       "      <td>100</td>\n",
       "      <td>liblinear</td>\n",
       "      <td>{'C': 10, 'max_iter': 100, 'solver': 'liblinear'}</td>\n",
       "      <td>0.458333</td>\n",
       "      <td>0.553191</td>\n",
       "      <td>0.758621</td>\n",
       "      <td>0.553191</td>\n",
       "      <td>0.434783</td>\n",
       "      <td>0.551624</td>\n",
       "      <td>0.114199</td>\n",
       "      <td>1</td>\n",
       "    </tr>\n",
       "    <tr>\n",
       "      <th>65</th>\n",
       "      <td>0.025126</td>\n",
       "      <td>0.018291</td>\n",
       "      <td>0.049332</td>\n",
       "      <td>0.042858</td>\n",
       "      <td>10</td>\n",
       "      <td>200</td>\n",
       "      <td>liblinear</td>\n",
       "      <td>{'C': 10, 'max_iter': 200, 'solver': 'liblinear'}</td>\n",
       "      <td>0.458333</td>\n",
       "      <td>0.553191</td>\n",
       "      <td>0.758621</td>\n",
       "      <td>0.553191</td>\n",
       "      <td>0.434783</td>\n",
       "      <td>0.551624</td>\n",
       "      <td>0.114199</td>\n",
       "      <td>1</td>\n",
       "    </tr>\n",
       "    <tr>\n",
       "      <th>68</th>\n",
       "      <td>0.019609</td>\n",
       "      <td>0.012216</td>\n",
       "      <td>0.022328</td>\n",
       "      <td>0.022907</td>\n",
       "      <td>10</td>\n",
       "      <td>300</td>\n",
       "      <td>liblinear</td>\n",
       "      <td>{'C': 10, 'max_iter': 300, 'solver': 'liblinear'}</td>\n",
       "      <td>0.458333</td>\n",
       "      <td>0.553191</td>\n",
       "      <td>0.758621</td>\n",
       "      <td>0.553191</td>\n",
       "      <td>0.434783</td>\n",
       "      <td>0.551624</td>\n",
       "      <td>0.114199</td>\n",
       "      <td>1</td>\n",
       "    </tr>\n",
       "    <tr>\n",
       "      <th>71</th>\n",
       "      <td>0.035945</td>\n",
       "      <td>0.022385</td>\n",
       "      <td>0.016417</td>\n",
       "      <td>0.006618</td>\n",
       "      <td>10</td>\n",
       "      <td>400</td>\n",
       "      <td>liblinear</td>\n",
       "      <td>{'C': 10, 'max_iter': 400, 'solver': 'liblinear'}</td>\n",
       "      <td>0.458333</td>\n",
       "      <td>0.553191</td>\n",
       "      <td>0.758621</td>\n",
       "      <td>0.553191</td>\n",
       "      <td>0.434783</td>\n",
       "      <td>0.551624</td>\n",
       "      <td>0.114199</td>\n",
       "      <td>1</td>\n",
       "    </tr>\n",
       "    <tr>\n",
       "      <th>74</th>\n",
       "      <td>0.041658</td>\n",
       "      <td>0.032106</td>\n",
       "      <td>0.051860</td>\n",
       "      <td>0.029934</td>\n",
       "      <td>10</td>\n",
       "      <td>500</td>\n",
       "      <td>liblinear</td>\n",
       "      <td>{'C': 10, 'max_iter': 500, 'solver': 'liblinear'}</td>\n",
       "      <td>0.458333</td>\n",
       "      <td>0.553191</td>\n",
       "      <td>0.758621</td>\n",
       "      <td>0.553191</td>\n",
       "      <td>0.434783</td>\n",
       "      <td>0.551624</td>\n",
       "      <td>0.114199</td>\n",
       "      <td>1</td>\n",
       "    </tr>\n",
       "  </tbody>\n",
       "</table>\n",
       "</div>"
      ],
      "text/plain": [
       "    mean_fit_time  std_fit_time  mean_score_time  std_score_time param_C  \\\n",
       "62       0.051659      0.032388         0.027747        0.014536      10   \n",
       "65       0.025126      0.018291         0.049332        0.042858      10   \n",
       "68       0.019609      0.012216         0.022328        0.022907      10   \n",
       "71       0.035945      0.022385         0.016417        0.006618      10   \n",
       "74       0.041658      0.032106         0.051860        0.029934      10   \n",
       "\n",
       "   param_max_iter param_solver  \\\n",
       "62            100    liblinear   \n",
       "65            200    liblinear   \n",
       "68            300    liblinear   \n",
       "71            400    liblinear   \n",
       "74            500    liblinear   \n",
       "\n",
       "                                               params  split0_test_score  \\\n",
       "62  {'C': 10, 'max_iter': 100, 'solver': 'liblinear'}           0.458333   \n",
       "65  {'C': 10, 'max_iter': 200, 'solver': 'liblinear'}           0.458333   \n",
       "68  {'C': 10, 'max_iter': 300, 'solver': 'liblinear'}           0.458333   \n",
       "71  {'C': 10, 'max_iter': 400, 'solver': 'liblinear'}           0.458333   \n",
       "74  {'C': 10, 'max_iter': 500, 'solver': 'liblinear'}           0.458333   \n",
       "\n",
       "    split1_test_score  split2_test_score  split3_test_score  \\\n",
       "62           0.553191           0.758621           0.553191   \n",
       "65           0.553191           0.758621           0.553191   \n",
       "68           0.553191           0.758621           0.553191   \n",
       "71           0.553191           0.758621           0.553191   \n",
       "74           0.553191           0.758621           0.553191   \n",
       "\n",
       "    split4_test_score  mean_test_score  std_test_score  rank_test_score  \n",
       "62           0.434783         0.551624        0.114199                1  \n",
       "65           0.434783         0.551624        0.114199                1  \n",
       "68           0.434783         0.551624        0.114199                1  \n",
       "71           0.434783         0.551624        0.114199                1  \n",
       "74           0.434783         0.551624        0.114199                1  "
      ]
     },
     "execution_count": 58,
     "metadata": {},
     "output_type": "execute_result"
    }
   ],
   "source": [
    "cv_result.sort_values('rank_test_score').head()"
   ]
  },
  {
   "cell_type": "code",
   "execution_count": 59,
   "metadata": {},
   "outputs": [
    {
     "data": {
      "text/html": [
       "<div>\n",
       "<style scoped>\n",
       "    .dataframe tbody tr th:only-of-type {\n",
       "        vertical-align: middle;\n",
       "    }\n",
       "\n",
       "    .dataframe tbody tr th {\n",
       "        vertical-align: top;\n",
       "    }\n",
       "\n",
       "    .dataframe thead th {\n",
       "        text-align: right;\n",
       "    }\n",
       "</style>\n",
       "<table border=\"1\" class=\"dataframe\">\n",
       "  <thead>\n",
       "    <tr style=\"text-align: right;\">\n",
       "      <th></th>\n",
       "      <th>mean_fit_time</th>\n",
       "      <th>std_fit_time</th>\n",
       "      <th>mean_score_time</th>\n",
       "      <th>std_score_time</th>\n",
       "      <th>param_C</th>\n",
       "      <th>param_max_iter</th>\n",
       "      <th>param_solver</th>\n",
       "      <th>params</th>\n",
       "      <th>split0_test_score</th>\n",
       "      <th>split1_test_score</th>\n",
       "      <th>split2_test_score</th>\n",
       "      <th>split3_test_score</th>\n",
       "      <th>split4_test_score</th>\n",
       "      <th>mean_test_score</th>\n",
       "      <th>std_test_score</th>\n",
       "      <th>rank_test_score</th>\n",
       "    </tr>\n",
       "  </thead>\n",
       "  <tbody>\n",
       "    <tr>\n",
       "      <th>90</th>\n",
       "      <td>0.212940</td>\n",
       "      <td>0.030144</td>\n",
       "      <td>0.040682</td>\n",
       "      <td>0.030507</td>\n",
       "      <td>1</td>\n",
       "      <td>100</td>\n",
       "      <td>newton-cg</td>\n",
       "      <td>{'C': 1, 'max_iter': 100, 'solver': 'newton-cg'}</td>\n",
       "      <td>0.458333</td>\n",
       "      <td>0.541667</td>\n",
       "      <td>0.758621</td>\n",
       "      <td>0.553191</td>\n",
       "      <td>0.444444</td>\n",
       "      <td>0.551251</td>\n",
       "      <td>0.112374</td>\n",
       "      <td>6</td>\n",
       "    </tr>\n",
       "    <tr>\n",
       "      <th>91</th>\n",
       "      <td>0.159331</td>\n",
       "      <td>0.065727</td>\n",
       "      <td>0.050587</td>\n",
       "      <td>0.024798</td>\n",
       "      <td>1</td>\n",
       "      <td>100</td>\n",
       "      <td>lbfgs</td>\n",
       "      <td>{'C': 1, 'max_iter': 100, 'solver': 'lbfgs'}</td>\n",
       "      <td>0.458333</td>\n",
       "      <td>0.541667</td>\n",
       "      <td>0.758621</td>\n",
       "      <td>0.553191</td>\n",
       "      <td>0.444444</td>\n",
       "      <td>0.551251</td>\n",
       "      <td>0.112374</td>\n",
       "      <td>6</td>\n",
       "    </tr>\n",
       "    <tr>\n",
       "      <th>92</th>\n",
       "      <td>0.053674</td>\n",
       "      <td>0.034692</td>\n",
       "      <td>0.014908</td>\n",
       "      <td>0.001973</td>\n",
       "      <td>1</td>\n",
       "      <td>100</td>\n",
       "      <td>liblinear</td>\n",
       "      <td>{'C': 1, 'max_iter': 100, 'solver': 'liblinear'}</td>\n",
       "      <td>0.458333</td>\n",
       "      <td>0.553191</td>\n",
       "      <td>0.758621</td>\n",
       "      <td>0.553191</td>\n",
       "      <td>0.425532</td>\n",
       "      <td>0.549774</td>\n",
       "      <td>0.116136</td>\n",
       "      <td>116</td>\n",
       "    </tr>\n",
       "  </tbody>\n",
       "</table>\n",
       "</div>"
      ],
      "text/plain": [
       "    mean_fit_time  std_fit_time  mean_score_time  std_score_time param_C  \\\n",
       "90       0.212940      0.030144         0.040682        0.030507       1   \n",
       "91       0.159331      0.065727         0.050587        0.024798       1   \n",
       "92       0.053674      0.034692         0.014908        0.001973       1   \n",
       "\n",
       "   param_max_iter param_solver  \\\n",
       "90            100    newton-cg   \n",
       "91            100        lbfgs   \n",
       "92            100    liblinear   \n",
       "\n",
       "                                              params  split0_test_score  \\\n",
       "90  {'C': 1, 'max_iter': 100, 'solver': 'newton-cg'}           0.458333   \n",
       "91      {'C': 1, 'max_iter': 100, 'solver': 'lbfgs'}           0.458333   \n",
       "92  {'C': 1, 'max_iter': 100, 'solver': 'liblinear'}           0.458333   \n",
       "\n",
       "    split1_test_score  split2_test_score  split3_test_score  \\\n",
       "90           0.541667           0.758621           0.553191   \n",
       "91           0.541667           0.758621           0.553191   \n",
       "92           0.553191           0.758621           0.553191   \n",
       "\n",
       "    split4_test_score  mean_test_score  std_test_score  rank_test_score  \n",
       "90           0.444444         0.551251        0.112374                6  \n",
       "91           0.444444         0.551251        0.112374                6  \n",
       "92           0.425532         0.549774        0.116136              116  "
      ]
     },
     "execution_count": 59,
     "metadata": {},
     "output_type": "execute_result"
    }
   ],
   "source": [
    "# hyperparameter dari benchmark model\n",
    "\n",
    "cv_result[(cv_result['param_C']==1) & (cv_result['param_max_iter']==100)]"
   ]
  },
  {
   "cell_type": "code",
   "execution_count": 67,
   "metadata": {},
   "outputs": [
    {
     "data": {
      "text/html": [
       "<div>\n",
       "<style scoped>\n",
       "    .dataframe tbody tr th:only-of-type {\n",
       "        vertical-align: middle;\n",
       "    }\n",
       "\n",
       "    .dataframe tbody tr th {\n",
       "        vertical-align: top;\n",
       "    }\n",
       "\n",
       "    .dataframe thead th {\n",
       "        text-align: right;\n",
       "    }\n",
       "</style>\n",
       "<table border=\"1\" class=\"dataframe\">\n",
       "  <thead>\n",
       "    <tr style=\"text-align: right;\">\n",
       "      <th></th>\n",
       "      <th>mean_fit_time</th>\n",
       "      <th>std_fit_time</th>\n",
       "      <th>mean_score_time</th>\n",
       "      <th>std_score_time</th>\n",
       "      <th>param_C</th>\n",
       "      <th>param_max_iter</th>\n",
       "      <th>param_solver</th>\n",
       "      <th>params</th>\n",
       "      <th>split0_test_score</th>\n",
       "      <th>split1_test_score</th>\n",
       "      <th>split2_test_score</th>\n",
       "      <th>split3_test_score</th>\n",
       "      <th>split4_test_score</th>\n",
       "      <th>mean_test_score</th>\n",
       "      <th>std_test_score</th>\n",
       "      <th>rank_test_score</th>\n",
       "    </tr>\n",
       "  </thead>\n",
       "  <tbody>\n",
       "    <tr>\n",
       "      <th>60</th>\n",
       "      <td>0.146087</td>\n",
       "      <td>0.046969</td>\n",
       "      <td>0.033269</td>\n",
       "      <td>0.024706</td>\n",
       "      <td>10</td>\n",
       "      <td>100</td>\n",
       "      <td>newton-cg</td>\n",
       "      <td>{'C': 10, 'max_iter': 100, 'solver': 'newton-cg'}</td>\n",
       "      <td>0.458333</td>\n",
       "      <td>0.541667</td>\n",
       "      <td>0.758621</td>\n",
       "      <td>0.553191</td>\n",
       "      <td>0.444444</td>\n",
       "      <td>0.551251</td>\n",
       "      <td>0.112374</td>\n",
       "      <td>6</td>\n",
       "    </tr>\n",
       "    <tr>\n",
       "      <th>61</th>\n",
       "      <td>0.124693</td>\n",
       "      <td>0.046205</td>\n",
       "      <td>0.036673</td>\n",
       "      <td>0.033204</td>\n",
       "      <td>10</td>\n",
       "      <td>100</td>\n",
       "      <td>lbfgs</td>\n",
       "      <td>{'C': 10, 'max_iter': 100, 'solver': 'lbfgs'}</td>\n",
       "      <td>0.458333</td>\n",
       "      <td>0.541667</td>\n",
       "      <td>0.758621</td>\n",
       "      <td>0.553191</td>\n",
       "      <td>0.444444</td>\n",
       "      <td>0.551251</td>\n",
       "      <td>0.112374</td>\n",
       "      <td>6</td>\n",
       "    </tr>\n",
       "    <tr>\n",
       "      <th>62</th>\n",
       "      <td>0.051659</td>\n",
       "      <td>0.032388</td>\n",
       "      <td>0.027747</td>\n",
       "      <td>0.014536</td>\n",
       "      <td>10</td>\n",
       "      <td>100</td>\n",
       "      <td>liblinear</td>\n",
       "      <td>{'C': 10, 'max_iter': 100, 'solver': 'liblinear'}</td>\n",
       "      <td>0.458333</td>\n",
       "      <td>0.553191</td>\n",
       "      <td>0.758621</td>\n",
       "      <td>0.553191</td>\n",
       "      <td>0.434783</td>\n",
       "      <td>0.551624</td>\n",
       "      <td>0.114199</td>\n",
       "      <td>1</td>\n",
       "    </tr>\n",
       "  </tbody>\n",
       "</table>\n",
       "</div>"
      ],
      "text/plain": [
       "    mean_fit_time  std_fit_time  mean_score_time  std_score_time param_C  \\\n",
       "60       0.146087      0.046969         0.033269        0.024706      10   \n",
       "61       0.124693      0.046205         0.036673        0.033204      10   \n",
       "62       0.051659      0.032388         0.027747        0.014536      10   \n",
       "\n",
       "   param_max_iter param_solver  \\\n",
       "60            100    newton-cg   \n",
       "61            100        lbfgs   \n",
       "62            100    liblinear   \n",
       "\n",
       "                                               params  split0_test_score  \\\n",
       "60  {'C': 10, 'max_iter': 100, 'solver': 'newton-cg'}           0.458333   \n",
       "61      {'C': 10, 'max_iter': 100, 'solver': 'lbfgs'}           0.458333   \n",
       "62  {'C': 10, 'max_iter': 100, 'solver': 'liblinear'}           0.458333   \n",
       "\n",
       "    split1_test_score  split2_test_score  split3_test_score  \\\n",
       "60           0.541667           0.758621           0.553191   \n",
       "61           0.541667           0.758621           0.553191   \n",
       "62           0.553191           0.758621           0.553191   \n",
       "\n",
       "    split4_test_score  mean_test_score  std_test_score  rank_test_score  \n",
       "60           0.444444         0.551251        0.112374                6  \n",
       "61           0.444444         0.551251        0.112374                6  \n",
       "62           0.434783         0.551624        0.114199                1  "
      ]
     },
     "execution_count": 67,
     "metadata": {},
     "output_type": "execute_result"
    }
   ],
   "source": [
    "# hyperparameter hasil dari hyperparameter tuning\n",
    "\n",
    "cv_result[(cv_result['param_C']==10) & (cv_result['param_max_iter']==100)]"
   ]
  },
  {
   "cell_type": "markdown",
   "metadata": {},
   "source": [
    "- f1 score sebelum dan setelah hyperparameter tuning tidak berubah"
   ]
  },
  {
   "cell_type": "markdown",
   "metadata": {},
   "source": [
    "### Membandingkan Performa Model pada Test Set (sebelum dan setelah hyperparameter tuning)"
   ]
  },
  {
   "cell_type": "markdown",
   "metadata": {},
   "source": [
    "**model sebelum hyperparameter tuning**\n"
   ]
  },
  {
   "cell_type": "code",
   "execution_count": 61,
   "metadata": {},
   "outputs": [
    {
     "data": {
      "text/plain": [
       "0.588235294117647"
      ]
     },
     "execution_count": 61,
     "metadata": {},
     "output_type": "execute_result"
    }
   ],
   "source": [
    "# model sebelum hyperparameter tuning\n",
    "\n",
    "logreg = LogisticRegression(C=1, max_iter=100)\n",
    "logreg.fit(X_train, y_train)\n",
    "\n",
    "y_pred = logreg.predict(X_test)\n",
    "f1_score(y_test, y_pred)"
   ]
  },
  {
   "cell_type": "code",
   "execution_count": 62,
   "metadata": {},
   "outputs": [
    {
     "name": "stdout",
     "output_type": "stream",
     "text": [
      "              precision    recall  f1-score   support\n",
      "\n",
      "           0       0.84      0.89      0.87       103\n",
      "           1       0.65      0.54      0.59        37\n",
      "\n",
      "    accuracy                           0.80       140\n",
      "   macro avg       0.74      0.72      0.73       140\n",
      "weighted avg       0.79      0.80      0.79       140\n",
      "\n"
     ]
    }
   ],
   "source": [
    "print(classification_report(y_test, y_pred))"
   ]
  },
  {
   "cell_type": "markdown",
   "metadata": {},
   "source": [
    "**model sebelum hyperparameter tuning**\n"
   ]
  },
  {
   "cell_type": "code",
   "execution_count": 63,
   "metadata": {},
   "outputs": [
    {
     "data": {
      "text/plain": [
       "0.588235294117647"
      ]
     },
     "execution_count": 63,
     "metadata": {},
     "output_type": "execute_result"
    }
   ],
   "source": [
    "# model setelah hyperparameter tuning\n",
    "\n",
    "logreg = LogisticRegression(C=1000, max_iter=100)\n",
    "logreg.fit(X_train, y_train)\n",
    "\n",
    "y_pred = logreg.predict(X_test)\n",
    "f1_score(y_test, y_pred)"
   ]
  },
  {
   "cell_type": "code",
   "execution_count": 64,
   "metadata": {},
   "outputs": [
    {
     "data": {
      "text/plain": [
       "LogisticRegression(C=10, solver='liblinear')"
      ]
     },
     "execution_count": 64,
     "metadata": {},
     "output_type": "execute_result"
    }
   ],
   "source": [
    "# model terbaik (dari hyperparameter tuning)\n",
    "grid_search.best_estimator_"
   ]
  },
  {
   "cell_type": "code",
   "execution_count": 65,
   "metadata": {},
   "outputs": [
    {
     "data": {
      "text/plain": [
       "0.588235294117647"
      ]
     },
     "execution_count": 65,
     "metadata": {},
     "output_type": "execute_result"
    }
   ],
   "source": [
    "logreg = grid_search.best_estimator_\n",
    "logreg.fit(X_train, y_train)\n",
    "\n",
    "y_pred = logreg.predict(X_test)\n",
    "f1_score(y_test, y_pred)"
   ]
  },
  {
   "cell_type": "code",
   "execution_count": 66,
   "metadata": {},
   "outputs": [
    {
     "name": "stdout",
     "output_type": "stream",
     "text": [
      "              precision    recall  f1-score   support\n",
      "\n",
      "           0       0.84      0.89      0.87       103\n",
      "           1       0.65      0.54      0.59        37\n",
      "\n",
      "    accuracy                           0.80       140\n",
      "   macro avg       0.74      0.72      0.73       140\n",
      "weighted avg       0.79      0.80      0.79       140\n",
      "\n"
     ]
    }
   ],
   "source": [
    "print(classification_report(y_test, y_pred))"
   ]
  },
  {
   "cell_type": "markdown",
   "metadata": {},
   "source": [
    "**Kesimpulan**\n",
    "\n",
    "- F1 score sebelum dan sesudah hyperparameter tuning tidak improve.\n",
    "- Penyebabnya bisa jadi karena pemilihan nilai untuk hyperparameter masih kurang tepat\n",
    "\n",
    "Solusi:\n",
    "- Atur ulang nilai yang dimasukkan pada param_grid\n",
    "- Ganti algoritma ML\n",
    "- Feature engineering\n",
    "- Tambah hyperparameter"
   ]
  },
  {
   "cell_type": "code",
   "execution_count": null,
   "metadata": {},
   "outputs": [],
   "source": []
  },
  {
   "cell_type": "code",
   "execution_count": null,
   "metadata": {},
   "outputs": [],
   "source": []
  },
  {
   "cell_type": "markdown",
   "metadata": {},
   "source": [
    "## Randomized Search (Hyperparameter Tuning)"
   ]
  },
  {
   "cell_type": "markdown",
   "metadata": {},
   "source": [
    "### Load Dataset"
   ]
  },
  {
   "cell_type": "code",
   "execution_count": 69,
   "metadata": {},
   "outputs": [
    {
     "data": {
      "text/html": [
       "<div>\n",
       "<style scoped>\n",
       "    .dataframe tbody tr th:only-of-type {\n",
       "        vertical-align: middle;\n",
       "    }\n",
       "\n",
       "    .dataframe tbody tr th {\n",
       "        vertical-align: top;\n",
       "    }\n",
       "\n",
       "    .dataframe thead th {\n",
       "        text-align: right;\n",
       "    }\n",
       "</style>\n",
       "<table border=\"1\" class=\"dataframe\">\n",
       "  <thead>\n",
       "    <tr style=\"text-align: right;\">\n",
       "      <th></th>\n",
       "      <th>total_bill</th>\n",
       "      <th>tip</th>\n",
       "      <th>sex</th>\n",
       "      <th>smoker</th>\n",
       "      <th>day</th>\n",
       "      <th>time</th>\n",
       "      <th>size</th>\n",
       "    </tr>\n",
       "  </thead>\n",
       "  <tbody>\n",
       "    <tr>\n",
       "      <th>0</th>\n",
       "      <td>16.99</td>\n",
       "      <td>1.01</td>\n",
       "      <td>Female</td>\n",
       "      <td>No</td>\n",
       "      <td>Sun</td>\n",
       "      <td>Dinner</td>\n",
       "      <td>2</td>\n",
       "    </tr>\n",
       "    <tr>\n",
       "      <th>1</th>\n",
       "      <td>10.34</td>\n",
       "      <td>1.66</td>\n",
       "      <td>Male</td>\n",
       "      <td>No</td>\n",
       "      <td>Sun</td>\n",
       "      <td>Dinner</td>\n",
       "      <td>3</td>\n",
       "    </tr>\n",
       "    <tr>\n",
       "      <th>2</th>\n",
       "      <td>21.01</td>\n",
       "      <td>3.50</td>\n",
       "      <td>Male</td>\n",
       "      <td>No</td>\n",
       "      <td>Sun</td>\n",
       "      <td>Dinner</td>\n",
       "      <td>3</td>\n",
       "    </tr>\n",
       "    <tr>\n",
       "      <th>3</th>\n",
       "      <td>23.68</td>\n",
       "      <td>3.31</td>\n",
       "      <td>Male</td>\n",
       "      <td>No</td>\n",
       "      <td>Sun</td>\n",
       "      <td>Dinner</td>\n",
       "      <td>2</td>\n",
       "    </tr>\n",
       "    <tr>\n",
       "      <th>4</th>\n",
       "      <td>24.59</td>\n",
       "      <td>3.61</td>\n",
       "      <td>Female</td>\n",
       "      <td>No</td>\n",
       "      <td>Sun</td>\n",
       "      <td>Dinner</td>\n",
       "      <td>4</td>\n",
       "    </tr>\n",
       "    <tr>\n",
       "      <th>...</th>\n",
       "      <td>...</td>\n",
       "      <td>...</td>\n",
       "      <td>...</td>\n",
       "      <td>...</td>\n",
       "      <td>...</td>\n",
       "      <td>...</td>\n",
       "      <td>...</td>\n",
       "    </tr>\n",
       "    <tr>\n",
       "      <th>239</th>\n",
       "      <td>29.03</td>\n",
       "      <td>5.92</td>\n",
       "      <td>Male</td>\n",
       "      <td>No</td>\n",
       "      <td>Sat</td>\n",
       "      <td>Dinner</td>\n",
       "      <td>3</td>\n",
       "    </tr>\n",
       "    <tr>\n",
       "      <th>240</th>\n",
       "      <td>27.18</td>\n",
       "      <td>2.00</td>\n",
       "      <td>Female</td>\n",
       "      <td>Yes</td>\n",
       "      <td>Sat</td>\n",
       "      <td>Dinner</td>\n",
       "      <td>2</td>\n",
       "    </tr>\n",
       "    <tr>\n",
       "      <th>241</th>\n",
       "      <td>22.67</td>\n",
       "      <td>2.00</td>\n",
       "      <td>Male</td>\n",
       "      <td>Yes</td>\n",
       "      <td>Sat</td>\n",
       "      <td>Dinner</td>\n",
       "      <td>2</td>\n",
       "    </tr>\n",
       "    <tr>\n",
       "      <th>242</th>\n",
       "      <td>17.82</td>\n",
       "      <td>1.75</td>\n",
       "      <td>Male</td>\n",
       "      <td>No</td>\n",
       "      <td>Sat</td>\n",
       "      <td>Dinner</td>\n",
       "      <td>2</td>\n",
       "    </tr>\n",
       "    <tr>\n",
       "      <th>243</th>\n",
       "      <td>18.78</td>\n",
       "      <td>3.00</td>\n",
       "      <td>Female</td>\n",
       "      <td>No</td>\n",
       "      <td>Thur</td>\n",
       "      <td>Dinner</td>\n",
       "      <td>2</td>\n",
       "    </tr>\n",
       "  </tbody>\n",
       "</table>\n",
       "<p>244 rows × 7 columns</p>\n",
       "</div>"
      ],
      "text/plain": [
       "     total_bill   tip     sex smoker   day    time  size\n",
       "0         16.99  1.01  Female     No   Sun  Dinner     2\n",
       "1         10.34  1.66    Male     No   Sun  Dinner     3\n",
       "2         21.01  3.50    Male     No   Sun  Dinner     3\n",
       "3         23.68  3.31    Male     No   Sun  Dinner     2\n",
       "4         24.59  3.61  Female     No   Sun  Dinner     4\n",
       "..          ...   ...     ...    ...   ...     ...   ...\n",
       "239       29.03  5.92    Male     No   Sat  Dinner     3\n",
       "240       27.18  2.00  Female    Yes   Sat  Dinner     2\n",
       "241       22.67  2.00    Male    Yes   Sat  Dinner     2\n",
       "242       17.82  1.75    Male     No   Sat  Dinner     2\n",
       "243       18.78  3.00  Female     No  Thur  Dinner     2\n",
       "\n",
       "[244 rows x 7 columns]"
      ]
     },
     "execution_count": 69,
     "metadata": {},
     "output_type": "execute_result"
    }
   ],
   "source": [
    "df_tip = sns.load_dataset('tips')\n",
    "df_tip"
   ]
  },
  {
   "cell_type": "code",
   "execution_count": 70,
   "metadata": {},
   "outputs": [
    {
     "data": {
      "text/html": [
       "<div>\n",
       "<style scoped>\n",
       "    .dataframe tbody tr th:only-of-type {\n",
       "        vertical-align: middle;\n",
       "    }\n",
       "\n",
       "    .dataframe tbody tr th {\n",
       "        vertical-align: top;\n",
       "    }\n",
       "\n",
       "    .dataframe thead th {\n",
       "        text-align: right;\n",
       "    }\n",
       "</style>\n",
       "<table border=\"1\" class=\"dataframe\">\n",
       "  <thead>\n",
       "    <tr style=\"text-align: right;\">\n",
       "      <th></th>\n",
       "      <th>total_bill</th>\n",
       "      <th>tip</th>\n",
       "      <th>size</th>\n",
       "    </tr>\n",
       "  </thead>\n",
       "  <tbody>\n",
       "    <tr>\n",
       "      <th>count</th>\n",
       "      <td>244.000000</td>\n",
       "      <td>244.000000</td>\n",
       "      <td>244.000000</td>\n",
       "    </tr>\n",
       "    <tr>\n",
       "      <th>mean</th>\n",
       "      <td>19.785943</td>\n",
       "      <td>2.998279</td>\n",
       "      <td>2.569672</td>\n",
       "    </tr>\n",
       "    <tr>\n",
       "      <th>std</th>\n",
       "      <td>8.902412</td>\n",
       "      <td>1.383638</td>\n",
       "      <td>0.951100</td>\n",
       "    </tr>\n",
       "    <tr>\n",
       "      <th>min</th>\n",
       "      <td>3.070000</td>\n",
       "      <td>1.000000</td>\n",
       "      <td>1.000000</td>\n",
       "    </tr>\n",
       "    <tr>\n",
       "      <th>25%</th>\n",
       "      <td>13.347500</td>\n",
       "      <td>2.000000</td>\n",
       "      <td>2.000000</td>\n",
       "    </tr>\n",
       "    <tr>\n",
       "      <th>50%</th>\n",
       "      <td>17.795000</td>\n",
       "      <td>2.900000</td>\n",
       "      <td>2.000000</td>\n",
       "    </tr>\n",
       "    <tr>\n",
       "      <th>75%</th>\n",
       "      <td>24.127500</td>\n",
       "      <td>3.562500</td>\n",
       "      <td>3.000000</td>\n",
       "    </tr>\n",
       "    <tr>\n",
       "      <th>max</th>\n",
       "      <td>50.810000</td>\n",
       "      <td>10.000000</td>\n",
       "      <td>6.000000</td>\n",
       "    </tr>\n",
       "  </tbody>\n",
       "</table>\n",
       "</div>"
      ],
      "text/plain": [
       "       total_bill         tip        size\n",
       "count  244.000000  244.000000  244.000000\n",
       "mean    19.785943    2.998279    2.569672\n",
       "std      8.902412    1.383638    0.951100\n",
       "min      3.070000    1.000000    1.000000\n",
       "25%     13.347500    2.000000    2.000000\n",
       "50%     17.795000    2.900000    2.000000\n",
       "75%     24.127500    3.562500    3.000000\n",
       "max     50.810000   10.000000    6.000000"
      ]
     },
     "execution_count": 70,
     "metadata": {},
     "output_type": "execute_result"
    }
   ],
   "source": [
    "df_tip.describe()"
   ]
  },
  {
   "cell_type": "code",
   "execution_count": 71,
   "metadata": {},
   "outputs": [
    {
     "name": "stdout",
     "output_type": "stream",
     "text": [
      "<class 'pandas.core.frame.DataFrame'>\n",
      "RangeIndex: 244 entries, 0 to 243\n",
      "Data columns (total 7 columns):\n",
      " #   Column      Non-Null Count  Dtype   \n",
      "---  ------      --------------  -----   \n",
      " 0   total_bill  244 non-null    float64 \n",
      " 1   tip         244 non-null    float64 \n",
      " 2   sex         244 non-null    category\n",
      " 3   smoker      244 non-null    category\n",
      " 4   day         244 non-null    category\n",
      " 5   time        244 non-null    category\n",
      " 6   size        244 non-null    int64   \n",
      "dtypes: category(4), float64(2), int64(1)\n",
      "memory usage: 7.4 KB\n"
     ]
    }
   ],
   "source": [
    "df_tip.info()"
   ]
  },
  {
   "cell_type": "markdown",
   "metadata": {},
   "source": [
    "### Data Splitting"
   ]
  },
  {
   "cell_type": "code",
   "execution_count": 76,
   "metadata": {},
   "outputs": [],
   "source": [
    "X = df_tip.drop(columns='tip') \n",
    "y = df_tip['tip']\n",
    "\n",
    "X_train, X_test, y_train, y_test = train_test_split(X, y, test_size=0.2, random_state=10)"
   ]
  },
  {
   "cell_type": "markdown",
   "metadata": {},
   "source": [
    "### Preprocessing "
   ]
  },
  {
   "cell_type": "code",
   "execution_count": 83,
   "metadata": {},
   "outputs": [],
   "source": [
    "from sklearn.preprocessing import OneHotEncoder\n",
    "from sklearn.compose import ColumnTransformer\n",
    "from sklearn.pipeline import Pipeline\n",
    "from sklearn.preprocessing import RobustScaler"
   ]
  },
  {
   "cell_type": "code",
   "execution_count": 84,
   "metadata": {},
   "outputs": [],
   "source": [
    "# Column Transformer\n",
    "transformer = ColumnTransformer([\n",
    "    ('onehot', OneHotEncoder(drop='first'), ['sex','smoker','day','time'])\n",
    "])\n",
    "\n",
    "# scaler\n",
    "scaler = RobustScaler()"
   ]
  },
  {
   "cell_type": "markdown",
   "metadata": {},
   "source": [
    "### Choose Best Benchmark Model\n",
    "\n",
    "Mencari model benchmar terbaik"
   ]
  },
  {
   "cell_type": "code",
   "execution_count": 87,
   "metadata": {},
   "outputs": [],
   "source": [
    "from sklearn.linear_model import LinearRegression\n",
    "from sklearn.neighbors import KNeighborsRegressor \n",
    "from sklearn.tree import DecisionTreeRegressor\n",
    "\n",
    "from sklearn.model_selection import KFold"
   ]
  },
  {
   "cell_type": "code",
   "execution_count": 86,
   "metadata": {},
   "outputs": [],
   "source": [
    "# define benchmark model\n",
    "linreg = LinearRegression()\n",
    "knn = KNeighborsRegressor()\n",
    "tree = DecisionTreeRegressor(random_state=10)"
   ]
  },
  {
   "cell_type": "code",
   "execution_count": 102,
   "metadata": {},
   "outputs": [
    {
     "name": "stdout",
     "output_type": "stream",
     "text": [
      "[-1.16802692 -1.16752348 -1.81019772 -1.49471601 -1.37771612] LinearRegression()\n",
      "[-1.55959087 -1.2793508  -1.96185501 -1.39123642 -1.49234773] KNeighborsRegressor()\n",
      "[-1.20542658 -1.18523899 -1.88787981 -1.46382493 -1.46174032] DecisionTreeRegressor(random_state=10)\n"
     ]
    }
   ],
   "source": [
    "# kandidat model\n",
    "models = [linreg, knn, tree]\n",
    "\n",
    "cv_mean = []\n",
    "cv_std = []\n",
    "\n",
    "# looping mencari model terbaik\n",
    "for i in models:\n",
    "\n",
    "    # define fold\n",
    "    fold = KFold(n_splits=5)\n",
    "\n",
    "    # Pipeline (berisi tahapan dari preprocesing sampai modeling)\n",
    "    model_pipe = Pipeline([\n",
    "        ('transformer', transformer),\n",
    "        ('scaler', scaler),\n",
    "        ('model', i)\n",
    "    ])\n",
    "\n",
    "    # cross validation\n",
    "    model_cv = cross_val_score(\n",
    "        model_pipe,\n",
    "        X_train,\n",
    "        y_train,\n",
    "        scoring='neg_root_mean_squared_error'\n",
    "    )\n",
    "\n",
    "    print(model_cv, i)\n",
    "\n",
    "    cv_mean.append(model_cv.mean())\n",
    "    cv_std.append(model_cv.std())\n"
   ]
  },
  {
   "cell_type": "code",
   "execution_count": 105,
   "metadata": {},
   "outputs": [
    {
     "data": {
      "text/html": [
       "<div>\n",
       "<style scoped>\n",
       "    .dataframe tbody tr th:only-of-type {\n",
       "        vertical-align: middle;\n",
       "    }\n",
       "\n",
       "    .dataframe tbody tr th {\n",
       "        vertical-align: top;\n",
       "    }\n",
       "\n",
       "    .dataframe thead th {\n",
       "        text-align: right;\n",
       "    }\n",
       "</style>\n",
       "<table border=\"1\" class=\"dataframe\">\n",
       "  <thead>\n",
       "    <tr style=\"text-align: right;\">\n",
       "      <th></th>\n",
       "      <th>model</th>\n",
       "      <th>RMSE mean</th>\n",
       "      <th>RMSE std</th>\n",
       "    </tr>\n",
       "  </thead>\n",
       "  <tbody>\n",
       "    <tr>\n",
       "      <th>0</th>\n",
       "      <td>LinearRegression()</td>\n",
       "      <td>-1.403636</td>\n",
       "      <td>0.238965</td>\n",
       "    </tr>\n",
       "    <tr>\n",
       "      <th>1</th>\n",
       "      <td>KNeighborsRegressor()</td>\n",
       "      <td>-1.536876</td>\n",
       "      <td>0.232653</td>\n",
       "    </tr>\n",
       "    <tr>\n",
       "      <th>2</th>\n",
       "      <td>DecisionTreeRegressor(random_state=10)</td>\n",
       "      <td>-1.440822</td>\n",
       "      <td>0.253599</td>\n",
       "    </tr>\n",
       "  </tbody>\n",
       "</table>\n",
       "</div>"
      ],
      "text/plain": [
       "                                    model  RMSE mean  RMSE std\n",
       "0                      LinearRegression()  -1.403636  0.238965\n",
       "1                   KNeighborsRegressor()  -1.536876  0.232653\n",
       "2  DecisionTreeRegressor(random_state=10)  -1.440822  0.253599"
      ]
     },
     "execution_count": 105,
     "metadata": {},
     "output_type": "execute_result"
    }
   ],
   "source": [
    "# Membandingkan model terbaik\n",
    "pd.DataFrame({\n",
    "    'model': models,\n",
    "    'RMSE mean': cv_mean,\n",
    "    'RMSE std': cv_std\n",
    "})"
   ]
  },
  {
   "cell_type": "markdown",
   "metadata": {},
   "source": [
    "**Best Benchmark Model**\n",
    "\n",
    "- Benchmark Model terbaik adalah Linear Regression dengan score RMSE 1.40, dan model cukup stabil\n",
    "- Kita akan mencoba melakukan hyperparameter tuning terhadap model Decision Tree"
   ]
  },
  {
   "cell_type": "markdown",
   "metadata": {},
   "source": [
    "### Hyperparameter Tuning"
   ]
  },
  {
   "cell_type": "code",
   "execution_count": 119,
   "metadata": {},
   "outputs": [
    {
     "data": {
      "text/plain": [
       "RandomizedSearchCV(cv=5,\n",
       "                   estimator=Pipeline(steps=[('transformer',\n",
       "                                              ColumnTransformer(transformers=[('onehot',\n",
       "                                                                               OneHotEncoder(drop='first'),\n",
       "                                                                               ['sex',\n",
       "                                                                                'smoker',\n",
       "                                                                                'day',\n",
       "                                                                                'time'])])),\n",
       "                                             ('scaler', RobustScaler()),\n",
       "                                             ('model',\n",
       "                                              DecisionTreeRegressor(random_state=10))]),\n",
       "                   n_iter=20, n_jobs=-1,\n",
       "                   param_distributions={'model__max_depth': [2, 3, 4, 5, 6, 7],\n",
       "                                        'model__min_samples_leaf': [2, 5, 10,\n",
       "                                                                    15, 20, 50,\n",
       "                                                                    100],\n",
       "                                        'model__min_samples_split': [2, 5, 10,\n",
       "                                                                     15, 20, 50,\n",
       "                                                                     100]},\n",
       "                   random_state=10, scoring='neg_root_mean_squared_error')"
      ]
     },
     "execution_count": 119,
     "metadata": {},
     "output_type": "execute_result"
    }
   ],
   "source": [
    "# hyperparameter untuk decision tree\n",
    "hyperparam_space = {\n",
    "    'model__max_depth':[2,3,4,5,6,7],                  # 6\n",
    "    'model__min_samples_leaf':[2,5,10,15,20,50,100],   # 7\n",
    "    'model__min_samples_split':[2,5,10,15,20,50,100]   # 7 \n",
    "}                                                      # 252 kombinasi hyperparameter\n",
    "\n",
    "\n",
    "# Pipeline (berisi tahapan dari preprocesing sampai modeling)\n",
    "model_pipe = Pipeline([\n",
    "    ('transformer', transformer),\n",
    "    ('scaler', scaler),\n",
    "    ('model', tree)\n",
    "])\n",
    "\n",
    "# Randomize Search\n",
    "random_search = RandomizedSearchCV(\n",
    "    estimator=model_pipe,                   # model yang akan dituning\n",
    "    param_distributions=hyperparam_space,   # hyperparameter yang akan dicoba\n",
    "    cv=5,                                   # jumlah fold untuk cross validation\n",
    "    n_iter=20,                              # jumlah kombinasi yang akan dihasilkan\n",
    "    random_state=10,                        \n",
    "    n_jobs=-1,                               # memakai semua processor di komputer\n",
    "    scoring='neg_root_mean_squared_error'\n",
    ")\n",
    "\n",
    "# fitting randomized serch\n",
    "random_search.fit(X_train, y_train)"
   ]
  },
  {
   "cell_type": "code",
   "execution_count": 120,
   "metadata": {},
   "outputs": [
    {
     "data": {
      "text/plain": [
       "-1.3816127471307202"
      ]
     },
     "execution_count": 120,
     "metadata": {},
     "output_type": "execute_result"
    }
   ],
   "source": [
    "# RMSE pada model terbaik\n",
    "random_search.best_score_"
   ]
  },
  {
   "cell_type": "code",
   "execution_count": 121,
   "metadata": {},
   "outputs": [
    {
     "data": {
      "text/plain": [
       "{'model__min_samples_split': 10,\n",
       " 'model__min_samples_leaf': 50,\n",
       " 'model__max_depth': 5}"
      ]
     },
     "execution_count": 121,
     "metadata": {},
     "output_type": "execute_result"
    }
   ],
   "source": [
    "# Hyperparameter pada model terbaik\n",
    "random_search.best_params_"
   ]
  },
  {
   "cell_type": "code",
   "execution_count": 122,
   "metadata": {},
   "outputs": [
    {
     "data": {
      "text/plain": [
       "Pipeline(steps=[('transformer',\n",
       "                 ColumnTransformer(transformers=[('onehot',\n",
       "                                                  OneHotEncoder(drop='first'),\n",
       "                                                  ['sex', 'smoker', 'day',\n",
       "                                                   'time'])])),\n",
       "                ('scaler', RobustScaler()),\n",
       "                ('model',\n",
       "                 DecisionTreeRegressor(max_depth=5, min_samples_leaf=50,\n",
       "                                       min_samples_split=10,\n",
       "                                       random_state=10))])"
      ]
     },
     "execution_count": 122,
     "metadata": {},
     "output_type": "execute_result"
    }
   ],
   "source": [
    "# Model terbaik\n",
    "random_search.best_estimator_"
   ]
  },
  {
   "cell_type": "code",
   "execution_count": 123,
   "metadata": {},
   "outputs": [
    {
     "data": {
      "text/html": [
       "<div>\n",
       "<style scoped>\n",
       "    .dataframe tbody tr th:only-of-type {\n",
       "        vertical-align: middle;\n",
       "    }\n",
       "\n",
       "    .dataframe tbody tr th {\n",
       "        vertical-align: top;\n",
       "    }\n",
       "\n",
       "    .dataframe thead th {\n",
       "        text-align: right;\n",
       "    }\n",
       "</style>\n",
       "<table border=\"1\" class=\"dataframe\">\n",
       "  <thead>\n",
       "    <tr style=\"text-align: right;\">\n",
       "      <th></th>\n",
       "      <th>mean_fit_time</th>\n",
       "      <th>std_fit_time</th>\n",
       "      <th>mean_score_time</th>\n",
       "      <th>std_score_time</th>\n",
       "      <th>param_model__min_samples_split</th>\n",
       "      <th>param_model__min_samples_leaf</th>\n",
       "      <th>param_model__max_depth</th>\n",
       "      <th>params</th>\n",
       "      <th>split0_test_score</th>\n",
       "      <th>split1_test_score</th>\n",
       "      <th>split2_test_score</th>\n",
       "      <th>split3_test_score</th>\n",
       "      <th>split4_test_score</th>\n",
       "      <th>mean_test_score</th>\n",
       "      <th>std_test_score</th>\n",
       "      <th>rank_test_score</th>\n",
       "    </tr>\n",
       "  </thead>\n",
       "  <tbody>\n",
       "    <tr>\n",
       "      <th>9</th>\n",
       "      <td>0.059373</td>\n",
       "      <td>0.033233</td>\n",
       "      <td>0.067821</td>\n",
       "      <td>0.030206</td>\n",
       "      <td>10</td>\n",
       "      <td>50</td>\n",
       "      <td>5</td>\n",
       "      <td>{'model__min_samples_split': 10, 'model__min_s...</td>\n",
       "      <td>-1.170625</td>\n",
       "      <td>-1.150190</td>\n",
       "      <td>-1.803137</td>\n",
       "      <td>-1.464604</td>\n",
       "      <td>-1.319508</td>\n",
       "      <td>-1.381613</td>\n",
       "      <td>0.239374</td>\n",
       "      <td>1</td>\n",
       "    </tr>\n",
       "    <tr>\n",
       "      <th>17</th>\n",
       "      <td>0.064472</td>\n",
       "      <td>0.034638</td>\n",
       "      <td>0.063456</td>\n",
       "      <td>0.024591</td>\n",
       "      <td>5</td>\n",
       "      <td>50</td>\n",
       "      <td>6</td>\n",
       "      <td>{'model__min_samples_split': 5, 'model__min_sa...</td>\n",
       "      <td>-1.170625</td>\n",
       "      <td>-1.150190</td>\n",
       "      <td>-1.803137</td>\n",
       "      <td>-1.464604</td>\n",
       "      <td>-1.319508</td>\n",
       "      <td>-1.381613</td>\n",
       "      <td>0.239374</td>\n",
       "      <td>1</td>\n",
       "    </tr>\n",
       "    <tr>\n",
       "      <th>0</th>\n",
       "      <td>0.067069</td>\n",
       "      <td>0.013231</td>\n",
       "      <td>0.034549</td>\n",
       "      <td>0.023473</td>\n",
       "      <td>2</td>\n",
       "      <td>100</td>\n",
       "      <td>7</td>\n",
       "      <td>{'model__min_samples_split': 2, 'model__min_sa...</td>\n",
       "      <td>-1.179194</td>\n",
       "      <td>-1.180247</td>\n",
       "      <td>-1.753039</td>\n",
       "      <td>-1.488741</td>\n",
       "      <td>-1.310297</td>\n",
       "      <td>-1.382304</td>\n",
       "      <td>0.217274</td>\n",
       "      <td>3</td>\n",
       "    </tr>\n",
       "    <tr>\n",
       "      <th>6</th>\n",
       "      <td>0.067543</td>\n",
       "      <td>0.027118</td>\n",
       "      <td>0.036306</td>\n",
       "      <td>0.019654</td>\n",
       "      <td>100</td>\n",
       "      <td>5</td>\n",
       "      <td>4</td>\n",
       "      <td>{'model__min_samples_split': 100, 'model__min_...</td>\n",
       "      <td>-1.196238</td>\n",
       "      <td>-1.151279</td>\n",
       "      <td>-1.805236</td>\n",
       "      <td>-1.470605</td>\n",
       "      <td>-1.381140</td>\n",
       "      <td>-1.400900</td>\n",
       "      <td>0.233638</td>\n",
       "      <td>4</td>\n",
       "    </tr>\n",
       "    <tr>\n",
       "      <th>13</th>\n",
       "      <td>0.088687</td>\n",
       "      <td>0.034730</td>\n",
       "      <td>0.049369</td>\n",
       "      <td>0.024352</td>\n",
       "      <td>100</td>\n",
       "      <td>10</td>\n",
       "      <td>5</td>\n",
       "      <td>{'model__min_samples_split': 100, 'model__min_...</td>\n",
       "      <td>-1.196238</td>\n",
       "      <td>-1.151279</td>\n",
       "      <td>-1.805236</td>\n",
       "      <td>-1.470605</td>\n",
       "      <td>-1.381140</td>\n",
       "      <td>-1.400900</td>\n",
       "      <td>0.233638</td>\n",
       "      <td>4</td>\n",
       "    </tr>\n",
       "  </tbody>\n",
       "</table>\n",
       "</div>"
      ],
      "text/plain": [
       "    mean_fit_time  std_fit_time  mean_score_time  std_score_time  \\\n",
       "9        0.059373      0.033233         0.067821        0.030206   \n",
       "17       0.064472      0.034638         0.063456        0.024591   \n",
       "0        0.067069      0.013231         0.034549        0.023473   \n",
       "6        0.067543      0.027118         0.036306        0.019654   \n",
       "13       0.088687      0.034730         0.049369        0.024352   \n",
       "\n",
       "   param_model__min_samples_split param_model__min_samples_leaf  \\\n",
       "9                              10                            50   \n",
       "17                              5                            50   \n",
       "0                               2                           100   \n",
       "6                             100                             5   \n",
       "13                            100                            10   \n",
       "\n",
       "   param_model__max_depth                                             params  \\\n",
       "9                       5  {'model__min_samples_split': 10, 'model__min_s...   \n",
       "17                      6  {'model__min_samples_split': 5, 'model__min_sa...   \n",
       "0                       7  {'model__min_samples_split': 2, 'model__min_sa...   \n",
       "6                       4  {'model__min_samples_split': 100, 'model__min_...   \n",
       "13                      5  {'model__min_samples_split': 100, 'model__min_...   \n",
       "\n",
       "    split0_test_score  split1_test_score  split2_test_score  \\\n",
       "9           -1.170625          -1.150190          -1.803137   \n",
       "17          -1.170625          -1.150190          -1.803137   \n",
       "0           -1.179194          -1.180247          -1.753039   \n",
       "6           -1.196238          -1.151279          -1.805236   \n",
       "13          -1.196238          -1.151279          -1.805236   \n",
       "\n",
       "    split3_test_score  split4_test_score  mean_test_score  std_test_score  \\\n",
       "9           -1.464604          -1.319508        -1.381613        0.239374   \n",
       "17          -1.464604          -1.319508        -1.381613        0.239374   \n",
       "0           -1.488741          -1.310297        -1.382304        0.217274   \n",
       "6           -1.470605          -1.381140        -1.400900        0.233638   \n",
       "13          -1.470605          -1.381140        -1.400900        0.233638   \n",
       "\n",
       "    rank_test_score  \n",
       "9                 1  \n",
       "17                1  \n",
       "0                 3  \n",
       "6                 4  \n",
       "13                4  "
      ]
     },
     "execution_count": 123,
     "metadata": {},
     "output_type": "execute_result"
    }
   ],
   "source": [
    "# 5 model dengan RMSE terbaik\n",
    "pd.DataFrame(random_search.cv_results_).sort_values('rank_test_score').head()"
   ]
  },
  {
   "cell_type": "markdown",
   "metadata": {},
   "source": [
    "### Predict Test Set\n",
    "\n",
    "Membandingkan performa model decision tree sebelum tuning dan setelah tuning (pada test set)"
   ]
  },
  {
   "cell_type": "code",
   "execution_count": 124,
   "metadata": {},
   "outputs": [],
   "source": [
    "from sklearn.metrics import mean_squared_error"
   ]
  },
  {
   "cell_type": "markdown",
   "metadata": {},
   "source": [
    "**Model Linear Regression Before Hyperparameter Tuning (Benchmark)**"
   ]
  },
  {
   "cell_type": "code",
   "execution_count": 134,
   "metadata": {},
   "outputs": [
    {
     "data": {
      "text/plain": [
       "1.7571030525536535"
      ]
     },
     "execution_count": 134,
     "metadata": {},
     "output_type": "execute_result"
    }
   ],
   "source": [
    "# benchmark model (sebelum tuning)\n",
    "\n",
    "linreg = LinearRegression()\n",
    "\n",
    "linreg_pipe = Pipeline([\n",
    "    ('transformer', transformer),\n",
    "    ('scaler', scaler),\n",
    "    ('model', linreg)\n",
    "])\n",
    "\n",
    "linreg_pipe.fit(X_train, y_train)\n",
    "\n",
    "y_pred = linreg_pipe.predict(X_test)\n",
    "mean_squared_error(y_test, y_pred)"
   ]
  },
  {
   "cell_type": "markdown",
   "metadata": {},
   "source": [
    "**Model Before Hyperparameter Tuning (Benchmark)**"
   ]
  },
  {
   "cell_type": "code",
   "execution_count": 126,
   "metadata": {},
   "outputs": [
    {
     "data": {
      "text/plain": [
       "1.8428674489869041"
      ]
     },
     "execution_count": 126,
     "metadata": {},
     "output_type": "execute_result"
    }
   ],
   "source": [
    "# benchmark model (sebelum tuning)\n",
    "\n",
    "model_before = DecisionTreeRegressor(max_depth=None, min_samples_leaf=1, min_samples_split=2)\n",
    "\n",
    "model_before_pipe = Pipeline([\n",
    "    ('transformer', transformer),\n",
    "    ('scaler', scaler),\n",
    "    ('model', model_before)\n",
    "])\n",
    "\n",
    "model_before_pipe.fit(X_train, y_train)\n",
    "\n",
    "y_pred = model_before_pipe.predict(X_test)\n",
    "mean_squared_error(y_test, y_pred)"
   ]
  },
  {
   "cell_type": "markdown",
   "metadata": {},
   "source": [
    "**Model After Hyperparameter Tuning**"
   ]
  },
  {
   "cell_type": "code",
   "execution_count": 133,
   "metadata": {},
   "outputs": [
    {
     "data": {
      "text/plain": [
       "Pipeline(steps=[('transformer',\n",
       "                 ColumnTransformer(transformers=[('onehot',\n",
       "                                                  OneHotEncoder(drop='first'),\n",
       "                                                  ['sex', 'smoker', 'day',\n",
       "                                                   'time'])])),\n",
       "                ('scaler', RobustScaler()),\n",
       "                ('model',\n",
       "                 DecisionTreeRegressor(max_depth=5, min_samples_leaf=50,\n",
       "                                       min_samples_split=10,\n",
       "                                       random_state=10))])"
      ]
     },
     "execution_count": 133,
     "metadata": {},
     "output_type": "execute_result"
    }
   ],
   "source": [
    "random_search.best_estimator_"
   ]
  },
  {
   "cell_type": "code",
   "execution_count": 129,
   "metadata": {},
   "outputs": [
    {
     "data": {
      "text/plain": [
       "1.7111567904909382"
      ]
     },
     "execution_count": 129,
     "metadata": {},
     "output_type": "execute_result"
    }
   ],
   "source": [
    "# model setelah tuning\n",
    "\n",
    "model_after = random_search.best_estimator_\n",
    "\n",
    "model_after.fit(X_train, y_train)\n",
    "\n",
    "y_pred = model_after.predict(X_test)\n",
    "mean_squared_error(y_test, y_pred)"
   ]
  },
  {
   "cell_type": "code",
   "execution_count": 131,
   "metadata": {},
   "outputs": [
    {
     "data": {
      "text/plain": [
       "{'model__min_samples_split': 10,\n",
       " 'model__min_samples_leaf': 50,\n",
       " 'model__max_depth': 5}"
      ]
     },
     "execution_count": 131,
     "metadata": {},
     "output_type": "execute_result"
    }
   ],
   "source": [
    "random_search.best_params_"
   ]
  },
  {
   "cell_type": "code",
   "execution_count": 132,
   "metadata": {},
   "outputs": [
    {
     "data": {
      "text/plain": [
       "1.7111567904909382"
      ]
     },
     "execution_count": 132,
     "metadata": {},
     "output_type": "execute_result"
    }
   ],
   "source": [
    "# benchmark model (sebelum tuning)\n",
    "\n",
    "model_after = DecisionTreeRegressor(max_depth=5, min_samples_leaf=50, min_samples_split=10)\n",
    "\n",
    "model_after_pipe = Pipeline([\n",
    "    ('transformer', transformer),\n",
    "    ('scaler', scaler),\n",
    "    ('model', model_after)\n",
    "])\n",
    "\n",
    "model_after_pipe.fit(X_train, y_train)\n",
    "\n",
    "y_pred = model_after_pipe.predict(X_test)\n",
    "mean_squared_error(y_test, y_pred)"
   ]
  },
  {
   "cell_type": "markdown",
   "metadata": {},
   "source": [
    "**Kesimpulan**\n",
    "\n",
    "- Kita melakukan hyperparameter tuning dengan RandomizedSearch karena kombinasi hyperparameter sangat banyak\n",
    "- Kita hanya memilih 20 kombinasi hyperparameter secara random (n_iter) untuk dilakukan cross validation\n",
    "- Hyperparameter tuning berhasil meningkatkan performa Model Decision Tree dari RMSE 1.84 menjadi 1.71 dollar"
   ]
  },
  {
   "cell_type": "code",
   "execution_count": null,
   "metadata": {},
   "outputs": [],
   "source": []
  },
  {
   "cell_type": "code",
   "execution_count": null,
   "metadata": {},
   "outputs": [],
   "source": []
  },
  {
   "cell_type": "code",
   "execution_count": null,
   "metadata": {},
   "outputs": [],
   "source": []
  },
  {
   "cell_type": "code",
   "execution_count": null,
   "metadata": {},
   "outputs": [],
   "source": []
  },
  {
   "cell_type": "code",
   "execution_count": null,
   "metadata": {},
   "outputs": [],
   "source": []
  },
  {
   "cell_type": "code",
   "execution_count": null,
   "metadata": {},
   "outputs": [],
   "source": []
  },
  {
   "cell_type": "code",
   "execution_count": null,
   "metadata": {},
   "outputs": [],
   "source": []
  },
  {
   "cell_type": "code",
   "execution_count": null,
   "metadata": {},
   "outputs": [],
   "source": []
  },
  {
   "cell_type": "code",
   "execution_count": null,
   "metadata": {},
   "outputs": [],
   "source": []
  }
 ],
 "metadata": {
  "interpreter": {
   "hash": "37eb40c3388cfde35488e2d005b0d69ca91ddeff8a429754d4da636d3f888e5e"
  },
  "kernelspec": {
   "display_name": "Python 3.7.11 ('base')",
   "language": "python",
   "name": "python3"
  },
  "language_info": {
   "codemirror_mode": {
    "name": "ipython",
    "version": 3
   },
   "file_extension": ".py",
   "mimetype": "text/x-python",
   "name": "python",
   "nbconvert_exporter": "python",
   "pygments_lexer": "ipython3",
   "version": "3.7.11"
  },
  "orig_nbformat": 4
 },
 "nbformat": 4,
 "nbformat_minor": 2
}
